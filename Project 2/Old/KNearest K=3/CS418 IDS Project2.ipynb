{
 "cells": [
  {
   "cell_type": "code",
   "execution_count": 1,
   "metadata": {},
   "outputs": [
    {
     "name": "stderr",
     "output_type": "stream",
     "text": [
      "C:\\Users\\kalya\\Anaconda3\\lib\\site-packages\\sklearn\\externals\\six.py:31: DeprecationWarning: The module is deprecated in version 0.21 and will be removed in version 0.23 since we've dropped support for Python 2.7. Please rely on the official version of six (https://pypi.org/project/six/).\n",
      "  \"(https://pypi.org/project/six/).\", DeprecationWarning)\n"
     ]
    }
   ],
   "source": [
    "import pandas as pd\n",
    "\n",
    "# TASK 2\n",
    "from sklearn.preprocessing import MinMaxScaler \n",
    "\n",
    "# TASK 3a\n",
    "from sklearn import linear_model\n",
    "import statsmodels.api as sm\n",
    "\n",
    "# Task 4\n",
    "from sklearn import tree\n",
    "from sklearn.externals.six import StringIO\n",
    "from sklearn import metrics\n",
    "import pydot\n",
    "\n",
    "from sklearn.neighbors import KNeighborsClassifier "
   ]
  },
  {
   "cell_type": "code",
   "execution_count": 3,
   "metadata": {},
   "outputs": [
    {
     "data": {
      "text/html": [
       "<div>\n",
       "<style scoped>\n",
       "    .dataframe tbody tr th:only-of-type {\n",
       "        vertical-align: middle;\n",
       "    }\n",
       "\n",
       "    .dataframe tbody tr th {\n",
       "        vertical-align: top;\n",
       "    }\n",
       "\n",
       "    .dataframe thead th {\n",
       "        text-align: right;\n",
       "    }\n",
       "</style>\n",
       "<table border=\"1\" class=\"dataframe\">\n",
       "  <thead>\n",
       "    <tr style=\"text-align: right;\">\n",
       "      <th></th>\n",
       "      <th>Unnamed: 0</th>\n",
       "      <th>State</th>\n",
       "      <th>County</th>\n",
       "      <th>Democratic</th>\n",
       "      <th>Republican</th>\n",
       "      <th>FIPS</th>\n",
       "      <th>Total Population</th>\n",
       "      <th>Citizen Voting-Age Population</th>\n",
       "      <th>Percent White, not Hispanic or Latino</th>\n",
       "      <th>Percent Black, not Hispanic or Latino</th>\n",
       "      <th>...</th>\n",
       "      <th>Percent Unemployed</th>\n",
       "      <th>Percent Less than High School Degree</th>\n",
       "      <th>Percent Less than Bachelor's Degree</th>\n",
       "      <th>Percent Rural</th>\n",
       "      <th>Party</th>\n",
       "      <th>Percent Age between 30 and 64 inclusive</th>\n",
       "      <th>Percent Male</th>\n",
       "      <th>Percent more than High School Degree</th>\n",
       "      <th>Percent more than Bachelor's Degree</th>\n",
       "      <th>Citizen Voting-Age Population voted</th>\n",
       "    </tr>\n",
       "  </thead>\n",
       "  <tbody>\n",
       "    <tr>\n",
       "      <th>0</th>\n",
       "      <td>0</td>\n",
       "      <td>AZ</td>\n",
       "      <td>apache</td>\n",
       "      <td>16298.0</td>\n",
       "      <td>7810.0</td>\n",
       "      <td>4001</td>\n",
       "      <td>72346</td>\n",
       "      <td>NaN</td>\n",
       "      <td>18.571863</td>\n",
       "      <td>0.486551</td>\n",
       "      <td>...</td>\n",
       "      <td>15.807433</td>\n",
       "      <td>21.758252</td>\n",
       "      <td>88.941063</td>\n",
       "      <td>74.061076</td>\n",
       "      <td>Demo</td>\n",
       "      <td>40.823266</td>\n",
       "      <td>49.401487</td>\n",
       "      <td>78.241748</td>\n",
       "      <td>11.058937</td>\n",
       "      <td>24108.0</td>\n",
       "    </tr>\n",
       "    <tr>\n",
       "      <th>1</th>\n",
       "      <td>1</td>\n",
       "      <td>AZ</td>\n",
       "      <td>cochise</td>\n",
       "      <td>17383.0</td>\n",
       "      <td>26929.0</td>\n",
       "      <td>4003</td>\n",
       "      <td>128177</td>\n",
       "      <td>92915.0</td>\n",
       "      <td>56.299492</td>\n",
       "      <td>3.714395</td>\n",
       "      <td>...</td>\n",
       "      <td>8.567108</td>\n",
       "      <td>13.409171</td>\n",
       "      <td>76.837055</td>\n",
       "      <td>36.301067</td>\n",
       "      <td>Rep</td>\n",
       "      <td>42.341450</td>\n",
       "      <td>50.930354</td>\n",
       "      <td>86.590829</td>\n",
       "      <td>23.162945</td>\n",
       "      <td>44312.0</td>\n",
       "    </tr>\n",
       "    <tr>\n",
       "      <th>2</th>\n",
       "      <td>2</td>\n",
       "      <td>AZ</td>\n",
       "      <td>coconino</td>\n",
       "      <td>34240.0</td>\n",
       "      <td>19249.0</td>\n",
       "      <td>4005</td>\n",
       "      <td>138064</td>\n",
       "      <td>104265.0</td>\n",
       "      <td>54.619597</td>\n",
       "      <td>1.342855</td>\n",
       "      <td>...</td>\n",
       "      <td>8.238305</td>\n",
       "      <td>11.085381</td>\n",
       "      <td>65.791439</td>\n",
       "      <td>31.466066</td>\n",
       "      <td>Demo</td>\n",
       "      <td>40.179917</td>\n",
       "      <td>49.418386</td>\n",
       "      <td>88.914619</td>\n",
       "      <td>34.208561</td>\n",
       "      <td>53489.0</td>\n",
       "    </tr>\n",
       "    <tr>\n",
       "      <th>3</th>\n",
       "      <td>3</td>\n",
       "      <td>AZ</td>\n",
       "      <td>gila</td>\n",
       "      <td>7643.0</td>\n",
       "      <td>12180.0</td>\n",
       "      <td>4007</td>\n",
       "      <td>53179</td>\n",
       "      <td>NaN</td>\n",
       "      <td>63.222325</td>\n",
       "      <td>0.552850</td>\n",
       "      <td>...</td>\n",
       "      <td>12.129932</td>\n",
       "      <td>15.729958</td>\n",
       "      <td>82.262624</td>\n",
       "      <td>41.062000</td>\n",
       "      <td>Rep</td>\n",
       "      <td>41.364072</td>\n",
       "      <td>49.703830</td>\n",
       "      <td>84.270042</td>\n",
       "      <td>17.737376</td>\n",
       "      <td>19823.0</td>\n",
       "    </tr>\n",
       "    <tr>\n",
       "      <th>4</th>\n",
       "      <td>4</td>\n",
       "      <td>AZ</td>\n",
       "      <td>graham</td>\n",
       "      <td>3368.0</td>\n",
       "      <td>6870.0</td>\n",
       "      <td>4009</td>\n",
       "      <td>37529</td>\n",
       "      <td>NaN</td>\n",
       "      <td>51.461536</td>\n",
       "      <td>1.811932</td>\n",
       "      <td>...</td>\n",
       "      <td>14.424104</td>\n",
       "      <td>14.580797</td>\n",
       "      <td>86.675944</td>\n",
       "      <td>46.437399</td>\n",
       "      <td>Rep</td>\n",
       "      <td>41.290735</td>\n",
       "      <td>53.686482</td>\n",
       "      <td>85.419203</td>\n",
       "      <td>13.324056</td>\n",
       "      <td>10238.0</td>\n",
       "    </tr>\n",
       "  </tbody>\n",
       "</table>\n",
       "<p>5 rows × 26 columns</p>\n",
       "</div>"
      ],
      "text/plain": [
       "   Unnamed: 0 State    County  Democratic  Republican  FIPS  Total Population  \\\n",
       "0           0    AZ    apache     16298.0      7810.0  4001             72346   \n",
       "1           1    AZ   cochise     17383.0     26929.0  4003            128177   \n",
       "2           2    AZ  coconino     34240.0     19249.0  4005            138064   \n",
       "3           3    AZ      gila      7643.0     12180.0  4007             53179   \n",
       "4           4    AZ    graham      3368.0      6870.0  4009             37529   \n",
       "\n",
       "   Citizen Voting-Age Population  Percent White, not Hispanic or Latino  \\\n",
       "0                            NaN                              18.571863   \n",
       "1                        92915.0                              56.299492   \n",
       "2                       104265.0                              54.619597   \n",
       "3                            NaN                              63.222325   \n",
       "4                            NaN                              51.461536   \n",
       "\n",
       "   Percent Black, not Hispanic or Latino  ...  Percent Unemployed  \\\n",
       "0                               0.486551  ...           15.807433   \n",
       "1                               3.714395  ...            8.567108   \n",
       "2                               1.342855  ...            8.238305   \n",
       "3                               0.552850  ...           12.129932   \n",
       "4                               1.811932  ...           14.424104   \n",
       "\n",
       "   Percent Less than High School Degree  Percent Less than Bachelor's Degree  \\\n",
       "0                             21.758252                            88.941063   \n",
       "1                             13.409171                            76.837055   \n",
       "2                             11.085381                            65.791439   \n",
       "3                             15.729958                            82.262624   \n",
       "4                             14.580797                            86.675944   \n",
       "\n",
       "   Percent Rural  Party  Percent Age between 30 and 64 inclusive  \\\n",
       "0      74.061076   Demo                                40.823266   \n",
       "1      36.301067    Rep                                42.341450   \n",
       "2      31.466066   Demo                                40.179917   \n",
       "3      41.062000    Rep                                41.364072   \n",
       "4      46.437399    Rep                                41.290735   \n",
       "\n",
       "   Percent Male  Percent more than High School Degree  \\\n",
       "0     49.401487                             78.241748   \n",
       "1     50.930354                             86.590829   \n",
       "2     49.418386                             88.914619   \n",
       "3     49.703830                             84.270042   \n",
       "4     53.686482                             85.419203   \n",
       "\n",
       "   Percent more than Bachelor's Degree  Citizen Voting-Age Population voted  \n",
       "0                            11.058937                              24108.0  \n",
       "1                            23.162945                              44312.0  \n",
       "2                            34.208561                              53489.0  \n",
       "3                            17.737376                              19823.0  \n",
       "4                            13.324056                              10238.0  \n",
       "\n",
       "[5 rows x 26 columns]"
      ]
     },
     "execution_count": 3,
     "metadata": {},
     "output_type": "execute_result"
    }
   ],
   "source": [
    "merged = pd.read_csv(\"merged.csv\")\n",
    "merged.head()"
   ]
  },
  {
   "cell_type": "code",
   "execution_count": 4,
   "metadata": {},
   "outputs": [
    {
     "name": "stdout",
     "output_type": "stream",
     "text": [
      "<class 'pandas.core.frame.DataFrame'>\n",
      "RangeIndex: 1200 entries, 0 to 1199\n",
      "Data columns (total 26 columns):\n",
      "Unnamed: 0                                 1200 non-null int64\n",
      "State                                      1200 non-null object\n",
      "County                                     1200 non-null object\n",
      "Democratic                                 1200 non-null float64\n",
      "Republican                                 1200 non-null float64\n",
      "FIPS                                       1200 non-null int64\n",
      "Total Population                           1200 non-null int64\n",
      "Citizen Voting-Age Population              520 non-null float64\n",
      "Percent White, not Hispanic or Latino      1200 non-null float64\n",
      "Percent Black, not Hispanic or Latino      1200 non-null float64\n",
      "Percent Hispanic or Latino                 1200 non-null float64\n",
      "Percent Foreign Born                       1200 non-null float64\n",
      "Percent Female                             1200 non-null float64\n",
      "Percent Age 29 and Under                   1200 non-null float64\n",
      "Percent Age 65 and Older                   1200 non-null float64\n",
      "Median Household Income                    1200 non-null int64\n",
      "Percent Unemployed                         1200 non-null float64\n",
      "Percent Less than High School Degree       1200 non-null float64\n",
      "Percent Less than Bachelor's Degree        1200 non-null float64\n",
      "Percent Rural                              1200 non-null float64\n",
      "Party                                      1200 non-null object\n",
      "Percent Age between 30 and 64 inclusive    1200 non-null float64\n",
      "Percent Male                               1200 non-null float64\n",
      "Percent more than High School Degree       1200 non-null float64\n",
      "Percent more than Bachelor's Degree        1200 non-null float64\n",
      "Citizen Voting-Age Population voted        1200 non-null float64\n",
      "dtypes: float64(19), int64(4), object(3)\n",
      "memory usage: 243.8+ KB\n"
     ]
    }
   ],
   "source": [
    "merged.info()"
   ]
  },
  {
   "cell_type": "code",
   "execution_count": 5,
   "metadata": {},
   "outputs": [],
   "source": [
    "merged = merged.drop([\"Unnamed: 0\",\"Citizen Voting-Age Population\", \"Citizen Voting-Age Population voted\", \n",
    "                      \"Percent Male\", \"Percent Age between 30 and 64 inclusive\", \n",
    "                      \"Percent more than High School Degree\",\"Percent more than Bachelor's Degree\"], axis = 1)\n"
   ]
  },
  {
   "cell_type": "code",
   "execution_count": 6,
   "metadata": {},
   "outputs": [],
   "source": [
    "merged = merged[(merged[[\"Democratic\", \"Republican\"]] != 0).all(axis = 1)]"
   ]
  },
  {
   "cell_type": "code",
   "execution_count": 7,
   "metadata": {},
   "outputs": [
    {
     "name": "stdout",
     "output_type": "stream",
     "text": [
      "<class 'pandas.core.frame.DataFrame'>\n",
      "Int64Index: 1195 entries, 0 to 1199\n",
      "Data columns (total 19 columns):\n",
      "State                                    1195 non-null object\n",
      "County                                   1195 non-null object\n",
      "Democratic                               1195 non-null float64\n",
      "Republican                               1195 non-null float64\n",
      "FIPS                                     1195 non-null int64\n",
      "Total Population                         1195 non-null int64\n",
      "Percent White, not Hispanic or Latino    1195 non-null float64\n",
      "Percent Black, not Hispanic or Latino    1195 non-null float64\n",
      "Percent Hispanic or Latino               1195 non-null float64\n",
      "Percent Foreign Born                     1195 non-null float64\n",
      "Percent Female                           1195 non-null float64\n",
      "Percent Age 29 and Under                 1195 non-null float64\n",
      "Percent Age 65 and Older                 1195 non-null float64\n",
      "Median Household Income                  1195 non-null int64\n",
      "Percent Unemployed                       1195 non-null float64\n",
      "Percent Less than High School Degree     1195 non-null float64\n",
      "Percent Less than Bachelor's Degree      1195 non-null float64\n",
      "Percent Rural                            1195 non-null float64\n",
      "Party                                    1195 non-null object\n",
      "dtypes: float64(13), int64(3), object(3)\n",
      "memory usage: 186.7+ KB\n"
     ]
    }
   ],
   "source": [
    "merged.info()"
   ]
  },
  {
   "cell_type": "code",
   "execution_count": 8,
   "metadata": {},
   "outputs": [
    {
     "data": {
      "text/html": [
       "<div>\n",
       "<style scoped>\n",
       "    .dataframe tbody tr th:only-of-type {\n",
       "        vertical-align: middle;\n",
       "    }\n",
       "\n",
       "    .dataframe tbody tr th {\n",
       "        vertical-align: top;\n",
       "    }\n",
       "\n",
       "    .dataframe thead th {\n",
       "        text-align: right;\n",
       "    }\n",
       "</style>\n",
       "<table border=\"1\" class=\"dataframe\">\n",
       "  <thead>\n",
       "    <tr style=\"text-align: right;\">\n",
       "      <th></th>\n",
       "      <th>State</th>\n",
       "      <th>County</th>\n",
       "      <th>FIPS</th>\n",
       "      <th>Total Population</th>\n",
       "      <th>Percent White, not Hispanic or Latino</th>\n",
       "      <th>Percent Black, not Hispanic or Latino</th>\n",
       "      <th>Percent Hispanic or Latino</th>\n",
       "      <th>Percent Foreign Born</th>\n",
       "      <th>Percent Female</th>\n",
       "      <th>Percent Age 29 and Under</th>\n",
       "      <th>Percent Age 65 and Older</th>\n",
       "      <th>Median Household Income</th>\n",
       "      <th>Percent Unemployed</th>\n",
       "      <th>Percent Less than High School Degree</th>\n",
       "      <th>Percent Less than Bachelor's Degree</th>\n",
       "      <th>Percent Rural</th>\n",
       "      <th>Democratic</th>\n",
       "      <th>Republican</th>\n",
       "      <th>Party</th>\n",
       "    </tr>\n",
       "  </thead>\n",
       "  <tbody>\n",
       "    <tr>\n",
       "      <th>0</th>\n",
       "      <td>AZ</td>\n",
       "      <td>apache</td>\n",
       "      <td>4001</td>\n",
       "      <td>72346</td>\n",
       "      <td>18.571863</td>\n",
       "      <td>0.486551</td>\n",
       "      <td>5.947806</td>\n",
       "      <td>1.719515</td>\n",
       "      <td>50.598513</td>\n",
       "      <td>45.854643</td>\n",
       "      <td>13.322091</td>\n",
       "      <td>32460</td>\n",
       "      <td>15.807433</td>\n",
       "      <td>21.758252</td>\n",
       "      <td>88.941063</td>\n",
       "      <td>74.061076</td>\n",
       "      <td>16298</td>\n",
       "      <td>7810</td>\n",
       "      <td>1</td>\n",
       "    </tr>\n",
       "    <tr>\n",
       "      <th>1</th>\n",
       "      <td>AZ</td>\n",
       "      <td>cochise</td>\n",
       "      <td>4003</td>\n",
       "      <td>128177</td>\n",
       "      <td>56.299492</td>\n",
       "      <td>3.714395</td>\n",
       "      <td>34.403208</td>\n",
       "      <td>11.458374</td>\n",
       "      <td>49.069646</td>\n",
       "      <td>37.902276</td>\n",
       "      <td>19.756275</td>\n",
       "      <td>45383</td>\n",
       "      <td>8.567108</td>\n",
       "      <td>13.409171</td>\n",
       "      <td>76.837055</td>\n",
       "      <td>36.301067</td>\n",
       "      <td>17383</td>\n",
       "      <td>26929</td>\n",
       "      <td>0</td>\n",
       "    </tr>\n",
       "    <tr>\n",
       "      <th>2</th>\n",
       "      <td>AZ</td>\n",
       "      <td>coconino</td>\n",
       "      <td>4005</td>\n",
       "      <td>138064</td>\n",
       "      <td>54.619597</td>\n",
       "      <td>1.342855</td>\n",
       "      <td>13.711033</td>\n",
       "      <td>4.825298</td>\n",
       "      <td>50.581614</td>\n",
       "      <td>48.946141</td>\n",
       "      <td>10.873943</td>\n",
       "      <td>51106</td>\n",
       "      <td>8.238305</td>\n",
       "      <td>11.085381</td>\n",
       "      <td>65.791439</td>\n",
       "      <td>31.466066</td>\n",
       "      <td>34240</td>\n",
       "      <td>19249</td>\n",
       "      <td>1</td>\n",
       "    </tr>\n",
       "    <tr>\n",
       "      <th>3</th>\n",
       "      <td>AZ</td>\n",
       "      <td>gila</td>\n",
       "      <td>4007</td>\n",
       "      <td>53179</td>\n",
       "      <td>63.222325</td>\n",
       "      <td>0.552850</td>\n",
       "      <td>18.548675</td>\n",
       "      <td>4.249798</td>\n",
       "      <td>50.296170</td>\n",
       "      <td>32.238290</td>\n",
       "      <td>26.397638</td>\n",
       "      <td>40593</td>\n",
       "      <td>12.129932</td>\n",
       "      <td>15.729958</td>\n",
       "      <td>82.262624</td>\n",
       "      <td>41.062000</td>\n",
       "      <td>7643</td>\n",
       "      <td>12180</td>\n",
       "      <td>0</td>\n",
       "    </tr>\n",
       "    <tr>\n",
       "      <th>4</th>\n",
       "      <td>AZ</td>\n",
       "      <td>graham</td>\n",
       "      <td>4009</td>\n",
       "      <td>37529</td>\n",
       "      <td>51.461536</td>\n",
       "      <td>1.811932</td>\n",
       "      <td>32.097844</td>\n",
       "      <td>4.385942</td>\n",
       "      <td>46.313518</td>\n",
       "      <td>46.393456</td>\n",
       "      <td>12.315809</td>\n",
       "      <td>47422</td>\n",
       "      <td>14.424104</td>\n",
       "      <td>14.580797</td>\n",
       "      <td>86.675944</td>\n",
       "      <td>46.437399</td>\n",
       "      <td>3368</td>\n",
       "      <td>6870</td>\n",
       "      <td>0</td>\n",
       "    </tr>\n",
       "  </tbody>\n",
       "</table>\n",
       "</div>"
      ],
      "text/plain": [
       "  State    County  FIPS  Total Population  \\\n",
       "0    AZ    apache  4001             72346   \n",
       "1    AZ   cochise  4003            128177   \n",
       "2    AZ  coconino  4005            138064   \n",
       "3    AZ      gila  4007             53179   \n",
       "4    AZ    graham  4009             37529   \n",
       "\n",
       "   Percent White, not Hispanic or Latino  \\\n",
       "0                              18.571863   \n",
       "1                              56.299492   \n",
       "2                              54.619597   \n",
       "3                              63.222325   \n",
       "4                              51.461536   \n",
       "\n",
       "   Percent Black, not Hispanic or Latino  Percent Hispanic or Latino  \\\n",
       "0                               0.486551                    5.947806   \n",
       "1                               3.714395                   34.403208   \n",
       "2                               1.342855                   13.711033   \n",
       "3                               0.552850                   18.548675   \n",
       "4                               1.811932                   32.097844   \n",
       "\n",
       "   Percent Foreign Born  Percent Female  Percent Age 29 and Under  \\\n",
       "0              1.719515       50.598513                 45.854643   \n",
       "1             11.458374       49.069646                 37.902276   \n",
       "2              4.825298       50.581614                 48.946141   \n",
       "3              4.249798       50.296170                 32.238290   \n",
       "4              4.385942       46.313518                 46.393456   \n",
       "\n",
       "   Percent Age 65 and Older  Median Household Income  Percent Unemployed  \\\n",
       "0                 13.322091                    32460           15.807433   \n",
       "1                 19.756275                    45383            8.567108   \n",
       "2                 10.873943                    51106            8.238305   \n",
       "3                 26.397638                    40593           12.129932   \n",
       "4                 12.315809                    47422           14.424104   \n",
       "\n",
       "   Percent Less than High School Degree  Percent Less than Bachelor's Degree  \\\n",
       "0                             21.758252                            88.941063   \n",
       "1                             13.409171                            76.837055   \n",
       "2                             11.085381                            65.791439   \n",
       "3                             15.729958                            82.262624   \n",
       "4                             14.580797                            86.675944   \n",
       "\n",
       "   Percent Rural  Democratic  Republican  Party  \n",
       "0      74.061076       16298        7810      1  \n",
       "1      36.301067       17383       26929      0  \n",
       "2      31.466066       34240       19249      1  \n",
       "3      41.062000        7643       12180      0  \n",
       "4      46.437399        3368        6870      0  "
      ]
     },
     "execution_count": 8,
     "metadata": {},
     "output_type": "execute_result"
    }
   ],
   "source": [
    "merged2 = pd.read_csv(\"merged_train.csv\")\n",
    "merged2.head()"
   ]
  },
  {
   "cell_type": "code",
   "execution_count": 9,
   "metadata": {},
   "outputs": [
    {
     "name": "stdout",
     "output_type": "stream",
     "text": [
      "<class 'pandas.core.frame.DataFrame'>\n",
      "RangeIndex: 1195 entries, 0 to 1194\n",
      "Data columns (total 19 columns):\n",
      "State                                    1195 non-null object\n",
      "County                                   1195 non-null object\n",
      "FIPS                                     1195 non-null int64\n",
      "Total Population                         1195 non-null int64\n",
      "Percent White, not Hispanic or Latino    1195 non-null float64\n",
      "Percent Black, not Hispanic or Latino    1195 non-null float64\n",
      "Percent Hispanic or Latino               1195 non-null float64\n",
      "Percent Foreign Born                     1195 non-null float64\n",
      "Percent Female                           1195 non-null float64\n",
      "Percent Age 29 and Under                 1195 non-null float64\n",
      "Percent Age 65 and Older                 1195 non-null float64\n",
      "Median Household Income                  1195 non-null int64\n",
      "Percent Unemployed                       1195 non-null float64\n",
      "Percent Less than High School Degree     1195 non-null float64\n",
      "Percent Less than Bachelor's Degree      1195 non-null float64\n",
      "Percent Rural                            1195 non-null float64\n",
      "Democratic                               1195 non-null int64\n",
      "Republican                               1195 non-null int64\n",
      "Party                                    1195 non-null int64\n",
      "dtypes: float64(11), int64(6), object(2)\n",
      "memory usage: 177.5+ KB\n"
     ]
    }
   ],
   "source": [
    "merged2.info()"
   ]
  },
  {
   "cell_type": "code",
   "execution_count": 10,
   "metadata": {},
   "outputs": [],
   "source": [
    "from sklearn.model_selection import train_test_split, KFold, cross_val_score"
   ]
  },
  {
   "cell_type": "code",
   "execution_count": 11,
   "metadata": {},
   "outputs": [],
   "source": [
    "merged = merged[[\"State\", \"County\", \"FIPS\",\n",
    "       \"Total Population\", \"Percent White, not Hispanic or Latino\",\n",
    "       \"Percent Black, not Hispanic or Latino\", \"Percent Hispanic or Latino\",\n",
    "       \"Percent Foreign Born\", \"Percent Female\", \"Percent Age 29 and Under\",\n",
    "       \"Percent Age 65 and Older\", \"Median Household Income\",\n",
    "       \"Percent Unemployed\", \"Percent Less than High School Degree\",\n",
    "       \"Percent Less than Bachelor's Degree\",  \n",
    "       \"Percent Rural\",\n",
    "       \"Democratic\", \"Republican\", \"Party\"]]"
   ]
  },
  {
   "cell_type": "code",
   "execution_count": 12,
   "metadata": {},
   "outputs": [
    {
     "data": {
      "text/plain": [
       "Index(['State', 'County', 'FIPS', 'Total Population',\n",
       "       'Percent White, not Hispanic or Latino',\n",
       "       'Percent Black, not Hispanic or Latino', 'Percent Hispanic or Latino',\n",
       "       'Percent Foreign Born', 'Percent Female', 'Percent Age 29 and Under',\n",
       "       'Percent Age 65 and Older', 'Median Household Income',\n",
       "       'Percent Unemployed', 'Percent Less than High School Degree',\n",
       "       'Percent Less than Bachelor's Degree', 'Percent Rural', 'Democratic',\n",
       "       'Republican', 'Party'],\n",
       "      dtype='object')"
      ]
     },
     "execution_count": 12,
     "metadata": {},
     "output_type": "execute_result"
    }
   ],
   "source": [
    "merged.columns"
   ]
  },
  {
   "cell_type": "code",
   "execution_count": 13,
   "metadata": {},
   "outputs": [
    {
     "data": {
      "text/html": [
       "<div>\n",
       "<style scoped>\n",
       "    .dataframe tbody tr th:only-of-type {\n",
       "        vertical-align: middle;\n",
       "    }\n",
       "\n",
       "    .dataframe tbody tr th {\n",
       "        vertical-align: top;\n",
       "    }\n",
       "\n",
       "    .dataframe thead th {\n",
       "        text-align: right;\n",
       "    }\n",
       "</style>\n",
       "<table border=\"1\" class=\"dataframe\">\n",
       "  <thead>\n",
       "    <tr style=\"text-align: right;\">\n",
       "      <th></th>\n",
       "      <th>State</th>\n",
       "      <th>County</th>\n",
       "      <th>FIPS</th>\n",
       "      <th>Total Population</th>\n",
       "      <th>Percent White, not Hispanic or Latino</th>\n",
       "      <th>Percent Black, not Hispanic or Latino</th>\n",
       "      <th>Percent Hispanic or Latino</th>\n",
       "      <th>Percent Foreign Born</th>\n",
       "      <th>Percent Female</th>\n",
       "      <th>Percent Age 29 and Under</th>\n",
       "      <th>Percent Age 65 and Older</th>\n",
       "      <th>Median Household Income</th>\n",
       "      <th>Percent Unemployed</th>\n",
       "      <th>Percent Less than High School Degree</th>\n",
       "      <th>Percent Less than Bachelor's Degree</th>\n",
       "      <th>Percent Rural</th>\n",
       "      <th>Democratic</th>\n",
       "      <th>Republican</th>\n",
       "      <th>Party</th>\n",
       "    </tr>\n",
       "  </thead>\n",
       "  <tbody>\n",
       "    <tr>\n",
       "      <th>0</th>\n",
       "      <td>AZ</td>\n",
       "      <td>apache</td>\n",
       "      <td>4001</td>\n",
       "      <td>72346</td>\n",
       "      <td>18.571863</td>\n",
       "      <td>0.486551</td>\n",
       "      <td>5.947806</td>\n",
       "      <td>1.719515</td>\n",
       "      <td>50.598513</td>\n",
       "      <td>45.854643</td>\n",
       "      <td>13.322091</td>\n",
       "      <td>32460</td>\n",
       "      <td>15.807433</td>\n",
       "      <td>21.758252</td>\n",
       "      <td>88.941063</td>\n",
       "      <td>74.061076</td>\n",
       "      <td>16298.0</td>\n",
       "      <td>7810.0</td>\n",
       "      <td>Demo</td>\n",
       "    </tr>\n",
       "    <tr>\n",
       "      <th>1</th>\n",
       "      <td>AZ</td>\n",
       "      <td>cochise</td>\n",
       "      <td>4003</td>\n",
       "      <td>128177</td>\n",
       "      <td>56.299492</td>\n",
       "      <td>3.714395</td>\n",
       "      <td>34.403208</td>\n",
       "      <td>11.458374</td>\n",
       "      <td>49.069646</td>\n",
       "      <td>37.902276</td>\n",
       "      <td>19.756275</td>\n",
       "      <td>45383</td>\n",
       "      <td>8.567108</td>\n",
       "      <td>13.409171</td>\n",
       "      <td>76.837055</td>\n",
       "      <td>36.301067</td>\n",
       "      <td>17383.0</td>\n",
       "      <td>26929.0</td>\n",
       "      <td>Rep</td>\n",
       "    </tr>\n",
       "    <tr>\n",
       "      <th>2</th>\n",
       "      <td>AZ</td>\n",
       "      <td>coconino</td>\n",
       "      <td>4005</td>\n",
       "      <td>138064</td>\n",
       "      <td>54.619597</td>\n",
       "      <td>1.342855</td>\n",
       "      <td>13.711033</td>\n",
       "      <td>4.825298</td>\n",
       "      <td>50.581614</td>\n",
       "      <td>48.946141</td>\n",
       "      <td>10.873943</td>\n",
       "      <td>51106</td>\n",
       "      <td>8.238305</td>\n",
       "      <td>11.085381</td>\n",
       "      <td>65.791439</td>\n",
       "      <td>31.466066</td>\n",
       "      <td>34240.0</td>\n",
       "      <td>19249.0</td>\n",
       "      <td>Demo</td>\n",
       "    </tr>\n",
       "    <tr>\n",
       "      <th>3</th>\n",
       "      <td>AZ</td>\n",
       "      <td>gila</td>\n",
       "      <td>4007</td>\n",
       "      <td>53179</td>\n",
       "      <td>63.222325</td>\n",
       "      <td>0.552850</td>\n",
       "      <td>18.548675</td>\n",
       "      <td>4.249798</td>\n",
       "      <td>50.296170</td>\n",
       "      <td>32.238290</td>\n",
       "      <td>26.397638</td>\n",
       "      <td>40593</td>\n",
       "      <td>12.129932</td>\n",
       "      <td>15.729958</td>\n",
       "      <td>82.262624</td>\n",
       "      <td>41.062000</td>\n",
       "      <td>7643.0</td>\n",
       "      <td>12180.0</td>\n",
       "      <td>Rep</td>\n",
       "    </tr>\n",
       "    <tr>\n",
       "      <th>4</th>\n",
       "      <td>AZ</td>\n",
       "      <td>graham</td>\n",
       "      <td>4009</td>\n",
       "      <td>37529</td>\n",
       "      <td>51.461536</td>\n",
       "      <td>1.811932</td>\n",
       "      <td>32.097844</td>\n",
       "      <td>4.385942</td>\n",
       "      <td>46.313518</td>\n",
       "      <td>46.393456</td>\n",
       "      <td>12.315809</td>\n",
       "      <td>47422</td>\n",
       "      <td>14.424104</td>\n",
       "      <td>14.580797</td>\n",
       "      <td>86.675944</td>\n",
       "      <td>46.437399</td>\n",
       "      <td>3368.0</td>\n",
       "      <td>6870.0</td>\n",
       "      <td>Rep</td>\n",
       "    </tr>\n",
       "  </tbody>\n",
       "</table>\n",
       "</div>"
      ],
      "text/plain": [
       "  State    County  FIPS  Total Population  \\\n",
       "0    AZ    apache  4001             72346   \n",
       "1    AZ   cochise  4003            128177   \n",
       "2    AZ  coconino  4005            138064   \n",
       "3    AZ      gila  4007             53179   \n",
       "4    AZ    graham  4009             37529   \n",
       "\n",
       "   Percent White, not Hispanic or Latino  \\\n",
       "0                              18.571863   \n",
       "1                              56.299492   \n",
       "2                              54.619597   \n",
       "3                              63.222325   \n",
       "4                              51.461536   \n",
       "\n",
       "   Percent Black, not Hispanic or Latino  Percent Hispanic or Latino  \\\n",
       "0                               0.486551                    5.947806   \n",
       "1                               3.714395                   34.403208   \n",
       "2                               1.342855                   13.711033   \n",
       "3                               0.552850                   18.548675   \n",
       "4                               1.811932                   32.097844   \n",
       "\n",
       "   Percent Foreign Born  Percent Female  Percent Age 29 and Under  \\\n",
       "0              1.719515       50.598513                 45.854643   \n",
       "1             11.458374       49.069646                 37.902276   \n",
       "2              4.825298       50.581614                 48.946141   \n",
       "3              4.249798       50.296170                 32.238290   \n",
       "4              4.385942       46.313518                 46.393456   \n",
       "\n",
       "   Percent Age 65 and Older  Median Household Income  Percent Unemployed  \\\n",
       "0                 13.322091                    32460           15.807433   \n",
       "1                 19.756275                    45383            8.567108   \n",
       "2                 10.873943                    51106            8.238305   \n",
       "3                 26.397638                    40593           12.129932   \n",
       "4                 12.315809                    47422           14.424104   \n",
       "\n",
       "   Percent Less than High School Degree  Percent Less than Bachelor's Degree  \\\n",
       "0                             21.758252                            88.941063   \n",
       "1                             13.409171                            76.837055   \n",
       "2                             11.085381                            65.791439   \n",
       "3                             15.729958                            82.262624   \n",
       "4                             14.580797                            86.675944   \n",
       "\n",
       "   Percent Rural  Democratic  Republican Party  \n",
       "0      74.061076     16298.0      7810.0  Demo  \n",
       "1      36.301067     17383.0     26929.0   Rep  \n",
       "2      31.466066     34240.0     19249.0  Demo  \n",
       "3      41.062000      7643.0     12180.0   Rep  \n",
       "4      46.437399      3368.0      6870.0   Rep  "
      ]
     },
     "execution_count": 13,
     "metadata": {},
     "output_type": "execute_result"
    }
   ],
   "source": [
    "merged.head()"
   ]
  },
  {
   "cell_type": "code",
   "execution_count": 14,
   "metadata": {},
   "outputs": [],
   "source": [
    "#X = merged.iloc[:,:17]\n",
    "\n",
    "#Y = merged.iloc[:,17:19]\n"
   ]
  },
  {
   "cell_type": "code",
   "execution_count": 15,
   "metadata": {},
   "outputs": [],
   "source": [
    "# TASK 1\n",
    "X_train, X_val= train_test_split(merged, test_size = 0.2, random_state = 1)\n",
    "x_train = X_train.iloc[:,3:16]\n",
    "x_val =   X_val.iloc[:,3:16]                                             \n",
    "y_train = X_train.iloc[:,16:19]\n",
    "y_val = X_val.iloc[:,16:19]\n"
   ]
  },
  {
   "cell_type": "code",
   "execution_count": 16,
   "metadata": {},
   "outputs": [
    {
     "data": {
      "text/html": [
       "<div>\n",
       "<style scoped>\n",
       "    .dataframe tbody tr th:only-of-type {\n",
       "        vertical-align: middle;\n",
       "    }\n",
       "\n",
       "    .dataframe tbody tr th {\n",
       "        vertical-align: top;\n",
       "    }\n",
       "\n",
       "    .dataframe thead th {\n",
       "        text-align: right;\n",
       "    }\n",
       "</style>\n",
       "<table border=\"1\" class=\"dataframe\">\n",
       "  <thead>\n",
       "    <tr style=\"text-align: right;\">\n",
       "      <th></th>\n",
       "      <th>Total Population</th>\n",
       "      <th>Percent White, not Hispanic or Latino</th>\n",
       "      <th>Percent Black, not Hispanic or Latino</th>\n",
       "      <th>Percent Hispanic or Latino</th>\n",
       "      <th>Percent Foreign Born</th>\n",
       "      <th>Percent Female</th>\n",
       "      <th>Percent Age 29 and Under</th>\n",
       "      <th>Percent Age 65 and Older</th>\n",
       "      <th>Median Household Income</th>\n",
       "      <th>Percent Unemployed</th>\n",
       "      <th>Percent Less than High School Degree</th>\n",
       "      <th>Percent Less than Bachelor's Degree</th>\n",
       "      <th>Percent Rural</th>\n",
       "    </tr>\n",
       "  </thead>\n",
       "  <tbody>\n",
       "    <tr>\n",
       "      <th>1002</th>\n",
       "      <td>13122</td>\n",
       "      <td>85.208048</td>\n",
       "      <td>7.117817</td>\n",
       "      <td>2.217650</td>\n",
       "      <td>1.798506</td>\n",
       "      <td>51.150739</td>\n",
       "      <td>34.644109</td>\n",
       "      <td>20.423716</td>\n",
       "      <td>48271</td>\n",
       "      <td>5.308192</td>\n",
       "      <td>14.155202</td>\n",
       "      <td>74.355116</td>\n",
       "      <td>100.000000</td>\n",
       "    </tr>\n",
       "    <tr>\n",
       "      <th>879</th>\n",
       "      <td>123601</td>\n",
       "      <td>84.768732</td>\n",
       "      <td>1.466817</td>\n",
       "      <td>11.155250</td>\n",
       "      <td>4.481355</td>\n",
       "      <td>50.174351</td>\n",
       "      <td>38.469753</td>\n",
       "      <td>14.703765</td>\n",
       "      <td>67979</td>\n",
       "      <td>5.564726</td>\n",
       "      <td>10.735275</td>\n",
       "      <td>72.974767</td>\n",
       "      <td>56.084566</td>\n",
       "    </tr>\n",
       "    <tr>\n",
       "      <th>401</th>\n",
       "      <td>9055</td>\n",
       "      <td>88.812811</td>\n",
       "      <td>0.077305</td>\n",
       "      <td>9.607951</td>\n",
       "      <td>4.538929</td>\n",
       "      <td>49.442297</td>\n",
       "      <td>36.775262</td>\n",
       "      <td>21.258973</td>\n",
       "      <td>49181</td>\n",
       "      <td>2.541847</td>\n",
       "      <td>12.288761</td>\n",
       "      <td>80.049221</td>\n",
       "      <td>65.204070</td>\n",
       "    </tr>\n",
       "    <tr>\n",
       "      <th>134</th>\n",
       "      <td>21026</td>\n",
       "      <td>92.304766</td>\n",
       "      <td>4.418339</td>\n",
       "      <td>1.664606</td>\n",
       "      <td>0.799011</td>\n",
       "      <td>46.142871</td>\n",
       "      <td>35.608294</td>\n",
       "      <td>16.313136</td>\n",
       "      <td>43786</td>\n",
       "      <td>5.646527</td>\n",
       "      <td>13.624489</td>\n",
       "      <td>87.340076</td>\n",
       "      <td>78.961583</td>\n",
       "    </tr>\n",
       "    <tr>\n",
       "      <th>510</th>\n",
       "      <td>48713</td>\n",
       "      <td>92.858169</td>\n",
       "      <td>1.426724</td>\n",
       "      <td>2.566050</td>\n",
       "      <td>2.147271</td>\n",
       "      <td>51.187568</td>\n",
       "      <td>43.039846</td>\n",
       "      <td>15.178700</td>\n",
       "      <td>50910</td>\n",
       "      <td>5.166842</td>\n",
       "      <td>9.569456</td>\n",
       "      <td>75.217562</td>\n",
       "      <td>44.273958</td>\n",
       "    </tr>\n",
       "  </tbody>\n",
       "</table>\n",
       "</div>"
      ],
      "text/plain": [
       "      Total Population  Percent White, not Hispanic or Latino  \\\n",
       "1002             13122                              85.208048   \n",
       "879             123601                              84.768732   \n",
       "401               9055                              88.812811   \n",
       "134              21026                              92.304766   \n",
       "510              48713                              92.858169   \n",
       "\n",
       "      Percent Black, not Hispanic or Latino  Percent Hispanic or Latino  \\\n",
       "1002                               7.117817                    2.217650   \n",
       "879                                1.466817                   11.155250   \n",
       "401                                0.077305                    9.607951   \n",
       "134                                4.418339                    1.664606   \n",
       "510                                1.426724                    2.566050   \n",
       "\n",
       "      Percent Foreign Born  Percent Female  Percent Age 29 and Under  \\\n",
       "1002              1.798506       51.150739                 34.644109   \n",
       "879               4.481355       50.174351                 38.469753   \n",
       "401               4.538929       49.442297                 36.775262   \n",
       "134               0.799011       46.142871                 35.608294   \n",
       "510               2.147271       51.187568                 43.039846   \n",
       "\n",
       "      Percent Age 65 and Older  Median Household Income  Percent Unemployed  \\\n",
       "1002                 20.423716                    48271            5.308192   \n",
       "879                  14.703765                    67979            5.564726   \n",
       "401                  21.258973                    49181            2.541847   \n",
       "134                  16.313136                    43786            5.646527   \n",
       "510                  15.178700                    50910            5.166842   \n",
       "\n",
       "      Percent Less than High School Degree  \\\n",
       "1002                             14.155202   \n",
       "879                              10.735275   \n",
       "401                              12.288761   \n",
       "134                              13.624489   \n",
       "510                               9.569456   \n",
       "\n",
       "      Percent Less than Bachelor's Degree  Percent Rural  \n",
       "1002                            74.355116     100.000000  \n",
       "879                             72.974767      56.084566  \n",
       "401                             80.049221      65.204070  \n",
       "134                             87.340076      78.961583  \n",
       "510                             75.217562      44.273958  "
      ]
     },
     "execution_count": 16,
     "metadata": {},
     "output_type": "execute_result"
    }
   ],
   "source": [
    "# TASK 1\n",
    "x_train.head()"
   ]
  },
  {
   "cell_type": "code",
   "execution_count": 17,
   "metadata": {},
   "outputs": [
    {
     "name": "stdout",
     "output_type": "stream",
     "text": [
      "<class 'pandas.core.frame.DataFrame'>\n",
      "Int64Index: 239 entries, 49 to 778\n",
      "Data columns (total 13 columns):\n",
      "Total Population                         239 non-null int64\n",
      "Percent White, not Hispanic or Latino    239 non-null float64\n",
      "Percent Black, not Hispanic or Latino    239 non-null float64\n",
      "Percent Hispanic or Latino               239 non-null float64\n",
      "Percent Foreign Born                     239 non-null float64\n",
      "Percent Female                           239 non-null float64\n",
      "Percent Age 29 and Under                 239 non-null float64\n",
      "Percent Age 65 and Older                 239 non-null float64\n",
      "Median Household Income                  239 non-null int64\n",
      "Percent Unemployed                       239 non-null float64\n",
      "Percent Less than High School Degree     239 non-null float64\n",
      "Percent Less than Bachelor's Degree      239 non-null float64\n",
      "Percent Rural                            239 non-null float64\n",
      "dtypes: float64(11), int64(2)\n",
      "memory usage: 26.1 KB\n"
     ]
    }
   ],
   "source": [
    "# TASK 1\n",
    "x_val.info()"
   ]
  },
  {
   "cell_type": "code",
   "execution_count": 18,
   "metadata": {},
   "outputs": [],
   "source": [
    "# TASK 2\n",
    "scaler = MinMaxScaler(feature_range=(0, 1))\n",
    "x_train[[\"Total Population\", \"Percent White, not Hispanic or Latino\",\n",
    "       \"Percent Black, not Hispanic or Latino\", \"Percent Hispanic or Latino\",\n",
    "       \"Percent Foreign Born\", \"Percent Female\", \"Percent Age 29 and Under\",\n",
    "       \"Percent Age 65 and Older\", \"Median Household Income\",\n",
    "       \"Percent Unemployed\", \"Percent Less than High School Degree\",\n",
    "       \"Percent Less than Bachelor's Degree\",  \n",
    "       \"Percent Rural\"]] = scaler.fit_transform(x_train[[\"Total Population\", \"Percent White, not Hispanic or Latino\",\n",
    "       \"Percent Black, not Hispanic or Latino\", \"Percent Hispanic or Latino\",\n",
    "       \"Percent Foreign Born\", \"Percent Female\", \"Percent Age 29 and Under\",\n",
    "       \"Percent Age 65 and Older\", \"Median Household Income\",\n",
    "       \"Percent Unemployed\", \"Percent Less than High School Degree\",\n",
    "       \"Percent Less than Bachelor's Degree\",  \n",
    "       \"Percent Rural\"]])\n",
    "x_val[[\"Total Population\", \"Percent White, not Hispanic or Latino\",\n",
    "       \"Percent Black, not Hispanic or Latino\", \"Percent Hispanic or Latino\",\n",
    "       \"Percent Foreign Born\", \"Percent Female\", \"Percent Age 29 and Under\",\n",
    "       \"Percent Age 65 and Older\", \"Median Household Income\",\n",
    "       \"Percent Unemployed\", \"Percent Less than High School Degree\",\n",
    "       \"Percent Less than Bachelor's Degree\", \n",
    "       \"Percent Rural\"]] = scaler.fit_transform(x_val[[\"Total Population\", \"Percent White, not Hispanic or Latino\",\n",
    "       \"Percent Black, not Hispanic or Latino\", \"Percent Hispanic or Latino\",\n",
    "       \"Percent Foreign Born\", \"Percent Female\", \"Percent Age 29 and Under\",\n",
    "       \"Percent Age 65 and Older\", \"Median Household Income\",\n",
    "       \"Percent Unemployed\", \"Percent Less than High School Degree\",\n",
    "       \"Percent Less than Bachelor's Degree\", \n",
    "       \"Percent Rural\"]])\n",
    "\n"
   ]
  },
  {
   "cell_type": "code",
   "execution_count": 19,
   "metadata": {},
   "outputs": [
    {
     "data": {
      "text/html": [
       "<div>\n",
       "<style scoped>\n",
       "    .dataframe tbody tr th:only-of-type {\n",
       "        vertical-align: middle;\n",
       "    }\n",
       "\n",
       "    .dataframe tbody tr th {\n",
       "        vertical-align: top;\n",
       "    }\n",
       "\n",
       "    .dataframe thead th {\n",
       "        text-align: right;\n",
       "    }\n",
       "</style>\n",
       "<table border=\"1\" class=\"dataframe\">\n",
       "  <thead>\n",
       "    <tr style=\"text-align: right;\">\n",
       "      <th></th>\n",
       "      <th>Total Population</th>\n",
       "      <th>Percent White, not Hispanic or Latino</th>\n",
       "      <th>Percent Black, not Hispanic or Latino</th>\n",
       "      <th>Percent Hispanic or Latino</th>\n",
       "      <th>Percent Foreign Born</th>\n",
       "      <th>Percent Female</th>\n",
       "      <th>Percent Age 29 and Under</th>\n",
       "      <th>Percent Age 65 and Older</th>\n",
       "      <th>Median Household Income</th>\n",
       "      <th>Percent Unemployed</th>\n",
       "      <th>Percent Less than High School Degree</th>\n",
       "      <th>Percent Less than Bachelor's Degree</th>\n",
       "      <th>Percent Rural</th>\n",
       "    </tr>\n",
       "  </thead>\n",
       "  <tbody>\n",
       "    <tr>\n",
       "      <th>49</th>\n",
       "      <td>0.083065</td>\n",
       "      <td>0.727571</td>\n",
       "      <td>0.191791</td>\n",
       "      <td>0.122607</td>\n",
       "      <td>0.147765</td>\n",
       "      <td>0.935078</td>\n",
       "      <td>0.321157</td>\n",
       "      <td>0.835212</td>\n",
       "      <td>0.205124</td>\n",
       "      <td>0.530498</td>\n",
       "      <td>0.292139</td>\n",
       "      <td>0.806858</td>\n",
       "      <td>0.310283</td>\n",
       "    </tr>\n",
       "    <tr>\n",
       "      <th>314</th>\n",
       "      <td>0.002336</td>\n",
       "      <td>0.967382</td>\n",
       "      <td>0.000151</td>\n",
       "      <td>0.022349</td>\n",
       "      <td>0.023163</td>\n",
       "      <td>0.875524</td>\n",
       "      <td>0.226376</td>\n",
       "      <td>0.618222</td>\n",
       "      <td>0.340126</td>\n",
       "      <td>0.185821</td>\n",
       "      <td>0.102249</td>\n",
       "      <td>0.649536</td>\n",
       "      <td>1.000000</td>\n",
       "    </tr>\n",
       "    <tr>\n",
       "      <th>331</th>\n",
       "      <td>0.004520</td>\n",
       "      <td>0.952289</td>\n",
       "      <td>0.000893</td>\n",
       "      <td>0.025489</td>\n",
       "      <td>0.045743</td>\n",
       "      <td>0.875024</td>\n",
       "      <td>0.221253</td>\n",
       "      <td>0.707377</td>\n",
       "      <td>0.153223</td>\n",
       "      <td>0.609891</td>\n",
       "      <td>0.248889</td>\n",
       "      <td>0.798457</td>\n",
       "      <td>0.797938</td>\n",
       "    </tr>\n",
       "    <tr>\n",
       "      <th>1022</th>\n",
       "      <td>0.008226</td>\n",
       "      <td>0.928527</td>\n",
       "      <td>0.082687</td>\n",
       "      <td>0.013381</td>\n",
       "      <td>0.024674</td>\n",
       "      <td>0.881316</td>\n",
       "      <td>0.328605</td>\n",
       "      <td>0.532165</td>\n",
       "      <td>0.303621</td>\n",
       "      <td>0.346107</td>\n",
       "      <td>0.350446</td>\n",
       "      <td>0.809291</td>\n",
       "      <td>0.469030</td>\n",
       "    </tr>\n",
       "    <tr>\n",
       "      <th>808</th>\n",
       "      <td>0.001632</td>\n",
       "      <td>0.588984</td>\n",
       "      <td>0.081922</td>\n",
       "      <td>0.368115</td>\n",
       "      <td>0.040630</td>\n",
       "      <td>0.866553</td>\n",
       "      <td>0.400685</td>\n",
       "      <td>0.515187</td>\n",
       "      <td>0.356295</td>\n",
       "      <td>0.515541</td>\n",
       "      <td>0.232292</td>\n",
       "      <td>0.841751</td>\n",
       "      <td>1.000000</td>\n",
       "    </tr>\n",
       "  </tbody>\n",
       "</table>\n",
       "</div>"
      ],
      "text/plain": [
       "      Total Population  Percent White, not Hispanic or Latino  \\\n",
       "49            0.083065                               0.727571   \n",
       "314           0.002336                               0.967382   \n",
       "331           0.004520                               0.952289   \n",
       "1022          0.008226                               0.928527   \n",
       "808           0.001632                               0.588984   \n",
       "\n",
       "      Percent Black, not Hispanic or Latino  Percent Hispanic or Latino  \\\n",
       "49                                 0.191791                    0.122607   \n",
       "314                                0.000151                    0.022349   \n",
       "331                                0.000893                    0.025489   \n",
       "1022                               0.082687                    0.013381   \n",
       "808                                0.081922                    0.368115   \n",
       "\n",
       "      Percent Foreign Born  Percent Female  Percent Age 29 and Under  \\\n",
       "49                0.147765        0.935078                  0.321157   \n",
       "314               0.023163        0.875524                  0.226376   \n",
       "331               0.045743        0.875024                  0.221253   \n",
       "1022              0.024674        0.881316                  0.328605   \n",
       "808               0.040630        0.866553                  0.400685   \n",
       "\n",
       "      Percent Age 65 and Older  Median Household Income  Percent Unemployed  \\\n",
       "49                    0.835212                 0.205124            0.530498   \n",
       "314                   0.618222                 0.340126            0.185821   \n",
       "331                   0.707377                 0.153223            0.609891   \n",
       "1022                  0.532165                 0.303621            0.346107   \n",
       "808                   0.515187                 0.356295            0.515541   \n",
       "\n",
       "      Percent Less than High School Degree  \\\n",
       "49                                0.292139   \n",
       "314                               0.102249   \n",
       "331                               0.248889   \n",
       "1022                              0.350446   \n",
       "808                               0.232292   \n",
       "\n",
       "      Percent Less than Bachelor's Degree  Percent Rural  \n",
       "49                               0.806858       0.310283  \n",
       "314                              0.649536       1.000000  \n",
       "331                              0.798457       0.797938  \n",
       "1022                             0.809291       0.469030  \n",
       "808                              0.841751       1.000000  "
      ]
     },
     "execution_count": 19,
     "metadata": {},
     "output_type": "execute_result"
    }
   ],
   "source": [
    "# TASK 2\n",
    "x_val.head()"
   ]
  },
  {
   "cell_type": "code",
   "execution_count": null,
   "metadata": {},
   "outputs": [],
   "source": [
    "\n"
   ]
  },
  {
   "cell_type": "code",
   "execution_count": 20,
   "metadata": {},
   "outputs": [],
   "source": [
    "# TASK 3a\n",
    "# Evaluate model with one predictor\n",
    "\n",
    "#model = linear_model.LinearRegression().fit(X = X_train[\"Total Population\"], y = Y_train[\"Democratic\"])\n",
    "#score_train = model.score(X = X_train[\"Total Population\"], y = Y_train[\"Democratic\"]) # R squared (training)\n",
    "#score_val = model.score(X = X_train[\"Total Population\"], y = Y_train[\"Democratic\"]) # R squared (validation)\n",
    "##score_test = model.score(X = X_test[['total_bill', 'size']], y = Y_test) # R squared (test)\n",
    "#print([score_train, score_val])"
   ]
  },
  {
   "cell_type": "code",
   "execution_count": 21,
   "metadata": {},
   "outputs": [
    {
     "name": "stdout",
     "output_type": "stream",
     "text": [
      "                            OLS Regression Results                            \n",
      "==============================================================================\n",
      "Dep. Variable:             Democratic   R-squared:                       0.862\n",
      "Model:                            OLS   Adj. R-squared:                  0.861\n",
      "Method:                 Least Squares   F-statistic:                     5940.\n",
      "Date:                Wed, 13 Nov 2019   Prob (F-statistic):               0.00\n",
      "Time:                        15:00:13   Log-Likelihood:                -11122.\n",
      "No. Observations:                 956   AIC:                         2.225e+04\n",
      "Df Residuals:                     954   BIC:                         2.226e+04\n",
      "Df Model:                           1                                         \n",
      "Covariance Type:            nonrobust                                         \n",
      "====================================================================================\n",
      "                       coef    std err          t      P>|t|      [0.025      0.975]\n",
      "------------------------------------------------------------------------------------\n",
      "const            -1025.4901    950.169     -1.079      0.281   -2890.152     839.172\n",
      "Total Population  9.586e+05   1.24e+04     77.073      0.000    9.34e+05    9.83e+05\n",
      "==============================================================================\n",
      "Omnibus:                     1537.753   Durbin-Watson:                   1.990\n",
      "Prob(Omnibus):                  0.000   Jarque-Bera (JB):          1446704.953\n",
      "Skew:                           9.498   Prob(JB):                         0.00\n",
      "Kurtosis:                     192.626   Cond. No.                         14.1\n",
      "==============================================================================\n",
      "\n",
      "Warnings:\n",
      "[1] Standard Errors assume that the covariance matrix of the errors is correctly specified.\n"
     ]
    },
    {
     "name": "stderr",
     "output_type": "stream",
     "text": [
      "C:\\Users\\kalya\\Anaconda3\\lib\\site-packages\\numpy\\core\\fromnumeric.py:2389: FutureWarning: Method .ptp is deprecated and will be removed in a future version. Use numpy.ptp instead.\n",
      "  return ptp(axis=axis, out=out, **kwargs)\n"
     ]
    }
   ],
   "source": [
    "# TASK 3a\n",
    "# Build model with 1 predictor (using statsmodels)\n",
    "X = x_train[\"Total Population\"] \n",
    "Y = y_train[\"Democratic\"]\n",
    "X = sm.add_constant(X)\n",
    "results = sm.OLS(Y,X).fit()\n",
    "print(results.summary())\n"
   ]
  },
  {
   "cell_type": "code",
   "execution_count": null,
   "metadata": {},
   "outputs": [],
   "source": [
    "# TASK 3a\n",
    "# Build model with 2 predictors (using statsmodels)\n",
    "X = x_train[[\"Total Population\", \"Percent White, not Hispanic or Latino\"]]\n",
    "Y = y_train[\"Democratic\"]\n",
    "X = sm.add_constant(X)\n",
    "results3 = sm.OLS(Y,X).fit()\n",
    "print(results3.summary())\n"
   ]
  },
  {
   "cell_type": "code",
   "execution_count": null,
   "metadata": {},
   "outputs": [],
   "source": [
    "# TASK 3a\n",
    "# Build model with 2 predictors (using statsmodels)\n",
    "X = x_train[[\"Total Population\", \"Percent Black, not Hispanic or Latino\"]]\n",
    "Y = y_train[\"Democratic\"]\n",
    "X = sm.add_constant(X)\n",
    "results3 = sm.OLS(Y,X).fit()\n",
    "print(results3.summary())"
   ]
  },
  {
   "cell_type": "code",
   "execution_count": null,
   "metadata": {},
   "outputs": [],
   "source": [
    "# TASK 3a\n",
    "# Build model with 3 predictors (using statsmodels)\n",
    "X = x_train[[\"Total Population\", \"Percent Black, not Hispanic or Latino\",\"Percent Less than Bachelor's Degree\"]]\n",
    "Y = y_train[\"Democratic\"]\n",
    "X = sm.add_constant(X)\n",
    "results4 = sm.OLS(Y,X).fit()\n",
    "print(results4.summary())"
   ]
  },
  {
   "cell_type": "code",
   "execution_count": null,
   "metadata": {},
   "outputs": [],
   "source": [
    "# TASK 3a\n",
    "# Build model with 4 predictors (using statsmodels)\n",
    "X = x_train[[\"Total Population\", \"Percent Black, not Hispanic or Latino\",\"Percent Less than Bachelor's Degree\", \"Percent Hispanic or Latino\"]]\n",
    "Y = y_train[\"Democratic\"]\n",
    "X = sm.add_constant(X)\n",
    "results5 = sm.OLS(Y,X).fit()\n",
    "print(results5.summary())"
   ]
  },
  {
   "cell_type": "code",
   "execution_count": null,
   "metadata": {},
   "outputs": [],
   "source": [
    "# TASK 3a\n",
    "# Build model with 4 predictors (using statsmodels)\n",
    "X = x_train[[\"Total Population\", \"Percent Black, not Hispanic or Latino\",\"Percent Less than Bachelor's Degree\", \"Percent Foreign Born\"]]\n",
    "Y = y_train[\"Democratic\"]\n",
    "X = sm.add_constant(X)\n",
    "results5 = sm.OLS(Y,X).fit()\n",
    "print(results5.summary())"
   ]
  },
  {
   "cell_type": "code",
   "execution_count": null,
   "metadata": {},
   "outputs": [],
   "source": [
    "# TASK 3a\n",
    "# Build model with 4 predictors (using statsmodels)\n",
    "X = x_train[[\"Total Population\", \"Percent Black, not Hispanic or Latino\",\"Percent Less than Bachelor's Degree\", \"Percent Female\"]]\n",
    "Y = y_train[\"Democratic\"]\n",
    "X = sm.add_constant(X)\n",
    "results5 = sm.OLS(Y,X).fit()\n",
    "print(results5.summary())"
   ]
  },
  {
   "cell_type": "code",
   "execution_count": null,
   "metadata": {},
   "outputs": [],
   "source": [
    "# TASK 3a\n",
    "# Build model with 4 predictors (using statsmodels)\n",
    "X = x_train[[\"Total Population\", \"Percent Black, not Hispanic or Latino\",\"Percent Less than Bachelor's Degree\", \"Percent Age 29 and Under\"]]\n",
    "Y = y_train[\"Democratic\"]\n",
    "X = sm.add_constant(X)\n",
    "results5 = sm.OLS(Y,X).fit()\n",
    "print(results5.summary())"
   ]
  },
  {
   "cell_type": "code",
   "execution_count": null,
   "metadata": {},
   "outputs": [],
   "source": [
    "# TASK 3a\n",
    "# The above model is the best performing model"
   ]
  },
  {
   "cell_type": "code",
   "execution_count": null,
   "metadata": {},
   "outputs": [],
   "source": [
    "# TASK 3a\n",
    "# Build model with 5 predictors (using statsmodels)\n",
    "X = x_train[[\"Total Population\", \"Percent Black, not Hispanic or Latino\",\"Percent Less than Bachelor's Degree\", \"Percent Age 29 and Under\", \"Percent Age 65 and Older\"]]\n",
    "Y = y_train[\"Democratic\"]\n",
    "X = sm.add_constant(X)\n",
    "results5 = sm.OLS(Y,X).fit()\n",
    "print(results5.summary())"
   ]
  },
  {
   "cell_type": "code",
   "execution_count": null,
   "metadata": {},
   "outputs": [],
   "source": [
    "# TASK 3a\n",
    "# Build model with 5 predictors (using statsmodels)\n",
    "X = x_train[[\"Total Population\", \"Percent Black, not Hispanic or Latino\",\"Percent Less than Bachelor's Degree\", \"Percent Age 29 and Under\", \"Median Household Income\"]]\n",
    "Y = y_train[\"Democratic\"]\n",
    "X = sm.add_constant(X)\n",
    "results5 = sm.OLS(Y,X).fit()\n",
    "print(results5.summary())"
   ]
  },
  {
   "cell_type": "code",
   "execution_count": null,
   "metadata": {},
   "outputs": [],
   "source": [
    "# TASK 3a\n",
    "# Build model with 5 predictors (using statsmodels)\n",
    "X = x_train[[\"Total Population\", \"Percent Black, not Hispanic or Latino\",\"Percent Less than Bachelor's Degree\", \"Percent Age 29 and Under\", \"Percent Unemployed\"]]\n",
    "Y = y_train[\"Democratic\"]\n",
    "X = sm.add_constant(X)\n",
    "results5 = sm.OLS(Y,X).fit()\n",
    "print(results5.summary())"
   ]
  },
  {
   "cell_type": "code",
   "execution_count": null,
   "metadata": {},
   "outputs": [],
   "source": [
    "# TASK 3a\n",
    "# Build model with 5 predictors (using statsmodels)\n",
    "X = x_train[[\"Total Population\", \"Percent Black, not Hispanic or Latino\",\"Percent Less than Bachelor's Degree\", \"Percent Age 29 and Under\", \n",
    "             \"Percent Less than High School Degree\"]]\n",
    "Y = y_train[\"Democratic\"]\n",
    "X = sm.add_constant(X)\n",
    "results5 = sm.OLS(Y,X).fit()\n",
    "print(results5.summary())"
   ]
  },
  {
   "cell_type": "code",
   "execution_count": null,
   "metadata": {},
   "outputs": [],
   "source": [
    "# TASK 3a\n",
    "# Build model with 5 predictors (using statsmodels)\n",
    "X = x_train[[\"Total Population\", \"Percent Black, not Hispanic or Latino\",\"Percent Less than Bachelor's Degree\", \"Percent Age 29 and Under\", \n",
    "             \"Percent Rural\"]]\n",
    "Y = y_train[\"Democratic\"]\n",
    "X = sm.add_constant(X)\n",
    "results5 = sm.OLS(Y,X).fit()\n",
    "print(results5.summary())"
   ]
  },
  {
   "cell_type": "code",
   "execution_count": null,
   "metadata": {},
   "outputs": [],
   "source": [
    "X_train.info()"
   ]
  },
  {
   "cell_type": "code",
   "execution_count": null,
   "metadata": {},
   "outputs": [],
   "source": [
    "# TASK 3a\n",
    "\n",
    "# The model with four predictor variables : \n",
    "# \"Total Population\", \"Percent Black, not Hispanic or Latino\",\"Percent Less than Bachelor's Degree\", \"Percent Age 29 and Under\" is the best performing model.\n",
    "# The Adjusted R2 value of this model is 0.872.\n"
   ]
  },
  {
   "cell_type": "code",
   "execution_count": null,
   "metadata": {},
   "outputs": [],
   "source": [
    "# TASK 3b\n",
    "# Build model with 1 predictor (using statsmodels)\n",
    "X = x_train[\"Total Population\"] \n",
    "Y = y_train[\"Republican\"]\n",
    "X = sm.add_constant(X)\n",
    "results = sm.OLS(Y,X).fit()\n",
    "print(results.summary())\n",
    "\n"
   ]
  },
  {
   "cell_type": "code",
   "execution_count": null,
   "metadata": {},
   "outputs": [],
   "source": [
    "# Build model with 2 predictors (using statsmodels)\n",
    "X = x_train[[\"Total Population\", \"Percent White, not Hispanic or Latino\"]]\n",
    "Y = y_train[\"Republican\"]\n",
    "X = sm.add_constant(X)\n",
    "results3 = sm.OLS(Y,X).fit()\n",
    "print(results3.summary())\n"
   ]
  },
  {
   "cell_type": "code",
   "execution_count": null,
   "metadata": {},
   "outputs": [],
   "source": [
    "# Build model with 3 predictors (using statsmodels)\n",
    "X = x_train[[\"Total Population\", \"Percent White, not Hispanic or Latino\", \"Percent Less than Bachelor's Degree\"]]\n",
    "Y = y_train[\"Republican\"]\n",
    "X = sm.add_constant(X)\n",
    "results3 = sm.OLS(Y,X).fit()\n",
    "print(results3.summary())"
   ]
  },
  {
   "cell_type": "code",
   "execution_count": null,
   "metadata": {},
   "outputs": [],
   "source": [
    "# Build model with 4 predictors (using statsmodels)\n",
    "X = x_train[[\"Total Population\", \"Percent White, not Hispanic or Latino\", \"Percent Less than Bachelor's Degree\", \n",
    "             \"Percent Black, not Hispanic or Latino\"]]\n",
    "Y = y_train[\"Republican\"]\n",
    "X = sm.add_constant(X)\n",
    "results3 = sm.OLS(Y,X).fit()\n",
    "print(results3.summary())"
   ]
  },
  {
   "cell_type": "code",
   "execution_count": null,
   "metadata": {},
   "outputs": [],
   "source": [
    "# Build model with  5 predictors (using statsmodels)\n",
    "X = x_train[[\"Total Population\", \"Percent White, not Hispanic or Latino\", \"Percent Less than Bachelor's Degree\", \n",
    "             \"Percent Black, not Hispanic or Latino\", \"Percent Hispanic or Latino\"]]\n",
    "Y = y_train[\"Republican\"]\n",
    "X = sm.add_constant(X)\n",
    "results3 = sm.OLS(Y,X).fit()\n",
    "print(results3.summary())"
   ]
  },
  {
   "cell_type": "code",
   "execution_count": null,
   "metadata": {},
   "outputs": [],
   "source": [
    "# Build model with 5 predictors (using statsmodels)\n",
    "X = x_train[[\"Total Population\", \"Percent White, not Hispanic or Latino\", \"Percent Less than Bachelor's Degree\", \n",
    "             \"Percent Black, not Hispanic or Latino\", \"Percent Foreign Born\"]]\n",
    "Y = y_train[\"Republican\"]\n",
    "X = sm.add_constant(X)\n",
    "results3 = sm.OLS(Y,X).fit()\n",
    "print(results3.summary())"
   ]
  },
  {
   "cell_type": "code",
   "execution_count": null,
   "metadata": {},
   "outputs": [],
   "source": [
    "# Build model with 5 predictors (using statsmodels)\n",
    "X = x_train[[\"Total Population\", \"Percent White, not Hispanic or Latino\", \"Percent Less than Bachelor's Degree\", \n",
    "             \"Percent Black, not Hispanic or Latino\", \"Percent Female\"]]\n",
    "Y = y_train[\"Republican\"]\n",
    "X = sm.add_constant(X)\n",
    "results3 = sm.OLS(Y,X).fit()\n",
    "print(results3.summary())"
   ]
  },
  {
   "cell_type": "code",
   "execution_count": null,
   "metadata": {},
   "outputs": [],
   "source": [
    "# Build model with 5 predictors (using statsmodels)\n",
    "X = x_train[[\"Total Population\", \"Percent White, not Hispanic or Latino\", \"Percent Less than Bachelor's Degree\", \n",
    "             \"Percent Black, not Hispanic or Latino\", \"Percent Age 29 and Under\"]]\n",
    "Y = y_train[\"Republican\"]\n",
    "X = sm.add_constant(X)\n",
    "results3 = sm.OLS(Y,X).fit()\n",
    "print(results3.summary())"
   ]
  },
  {
   "cell_type": "code",
   "execution_count": null,
   "metadata": {},
   "outputs": [],
   "source": [
    "# Build model with 5 predictors (using statsmodels)\n",
    "X = x_train[[\"Total Population\", \"Percent White, not Hispanic or Latino\", \"Percent Less than Bachelor's Degree\", \n",
    "             \"Percent Black, not Hispanic or Latino\", \"Percent Age 65 and Older\"]]\n",
    "Y = y_train[\"Republican\"]\n",
    "X = sm.add_constant(X)\n",
    "results3 = sm.OLS(Y,X).fit()\n",
    "print(results3.summary())"
   ]
  },
  {
   "cell_type": "code",
   "execution_count": null,
   "metadata": {},
   "outputs": [],
   "source": [
    "# Build model with 5 predictors (using statsmodels)\n",
    "X = x_train[[\"Total Population\", \"Percent White, not Hispanic or Latino\", \"Percent Less than Bachelor's Degree\", \n",
    "             \"Percent Black, not Hispanic or Latino\", \"Median Household Income\"]]\n",
    "Y = y_train[\"Republican\"]\n",
    "X = sm.add_constant(X)\n",
    "results3 = sm.OLS(Y,X).fit()\n",
    "print(results3.summary())"
   ]
  },
  {
   "cell_type": "code",
   "execution_count": null,
   "metadata": {},
   "outputs": [],
   "source": [
    "# Build model with 6 predictors (using statsmodels)\n",
    "X = x_train[[\"Total Population\", \"Percent White, not Hispanic or Latino\", \"Percent Less than Bachelor's Degree\", \n",
    "             \"Percent Black, not Hispanic or Latino\", \"Median Household Income\", \"Percent Unemployed\"]]\n",
    "Y = y_train[\"Republican\"]\n",
    "X = sm.add_constant(X)\n",
    "results3 = sm.OLS(Y,X).fit()\n",
    "print(results3.summary())"
   ]
  },
  {
   "cell_type": "code",
   "execution_count": null,
   "metadata": {},
   "outputs": [],
   "source": [
    "# Build model with 7 predictors (using statsmodels)\n",
    "X = x_train[[\"Total Population\", \"Percent White, not Hispanic or Latino\", \"Percent Less than Bachelor's Degree\", \n",
    "             \"Percent Black, not Hispanic or Latino\", \"Median Household Income\", \n",
    "             \"Percent Unemployed\", \"Percent Less than High School Degree\"]]\n",
    "Y = y_train[\"Republican\"]\n",
    "X = sm.add_constant(X)\n",
    "results3 = sm.OLS(Y,X).fit()\n",
    "print(results3.summary())"
   ]
  },
  {
   "cell_type": "code",
   "execution_count": null,
   "metadata": {},
   "outputs": [],
   "source": [
    "# Build model with 7 predictors (using statsmodels)\n",
    "X = x_train[[\"Total Population\", \"Percent White, not Hispanic or Latino\", \"Percent Less than Bachelor's Degree\", \n",
    "             \"Percent Black, not Hispanic or Latino\", \"Median Household Income\", \n",
    "             \"Percent Unemployed\", \"Percent Rural\"]]\n",
    "Y = y_train[\"Republican\"]\n",
    "X = sm.add_constant(X)\n",
    "results3 = sm.OLS(Y,X).fit()\n",
    "print(results3.summary())"
   ]
  },
  {
   "cell_type": "code",
   "execution_count": null,
   "metadata": {},
   "outputs": [],
   "source": [
    "# TASK 3b\n",
    "\n",
    "# The model with SEVEN predictor variables : \n",
    "#              \"Total Population\", \"Percent White, not Hispanic or Latino\", \"Percent Less than Bachelor's Degree\", \n",
    "#             \"Percent Black, not Hispanic or Latino\", \"Median Household Income\", \n",
    "#             \"Percent Unemployed\", \"Percent Rural\" \n",
    "# is the best performing model.\n",
    "# The Adjusted R2 value of this model is 0.853.\n"
   ]
  },
  {
   "cell_type": "code",
   "execution_count": null,
   "metadata": {},
   "outputs": [],
   "source": [
    "X_train.info()"
   ]
  },
  {
   "cell_type": "code",
   "execution_count": null,
   "metadata": {},
   "outputs": [],
   "source": [
    "# Task 4\n",
    "# Build decision tree with one parameter\n",
    "model = tree.DecisionTreeClassifier(criterion = \"entropy\", random_state = 0)\n",
    "x = x_train[[\"Total Population\"]]\n",
    "y = y_train.iloc[:,2:]\n",
    "model.fit(x,y)"
   ]
  },
  {
   "cell_type": "code",
   "execution_count": null,
   "metadata": {},
   "outputs": [],
   "source": [
    "# TASK 4\n",
    "# Show decision tree\n",
    "model.tree_.__getstate__()['nodes']"
   ]
  },
  {
   "cell_type": "code",
   "execution_count": null,
   "metadata": {},
   "outputs": [],
   "source": [
    "# TASK 4\n",
    "# Predict class labels using decision tree\n",
    "x_test = x_val[[\"Total Population\"]]\n",
    "y_pred = model.predict(x_test)\n"
   ]
  },
  {
   "cell_type": "code",
   "execution_count": null,
   "metadata": {},
   "outputs": [],
   "source": [
    "# TASK 4\n",
    "# Compute confusion matrix\n",
    "y_test = y_val.iloc[:, 2:]\n",
    "conf_matrix = metrics.confusion_matrix(y_test, y_pred)\n",
    "print(conf_matrix)"
   ]
  },
  {
   "cell_type": "code",
   "execution_count": null,
   "metadata": {},
   "outputs": [],
   "source": [
    "# TASK 4\n",
    "import matplotlib.pyplot as plt\n",
    "import seaborn as sns"
   ]
  },
  {
   "cell_type": "code",
   "execution_count": null,
   "metadata": {},
   "outputs": [],
   "source": [
    "# TASK 4\n",
    "# Plot confusion matrix\n",
    "sns.heatmap(conf_matrix, annot = True, fmt = \".3f\", square = True, cmap = plt.cm.Blues)\n",
    "plt.ylabel('Actual')\n",
    "plt.xlabel('Predicted')\n",
    "plt.title('Confusion matrix')\n",
    "plt.tight_layout()"
   ]
  },
  {
   "cell_type": "code",
   "execution_count": null,
   "metadata": {},
   "outputs": [],
   "source": [
    "# TASK 4\n",
    "# Compute evaluation metrics\n",
    "print(metrics.accuracy_score(y_test, y_pred)) # accuracy\n",
    "print(1 - metrics.accuracy_score(y_test, y_pred)) # error\n",
    "print(metrics.precision_score(y_test, y_pred, average = None)) # precision\n",
    "print(metrics.recall_score(y_test, y_pred, average = None)) # recall\n",
    "print(metrics.f1_score(y_test, y_pred, average = None)) # F1 score"
   ]
  },
  {
   "cell_type": "code",
   "execution_count": null,
   "metadata": {},
   "outputs": [],
   "source": [
    "# Task 4\n",
    "# Build decision tree with two Parameters\n",
    "model = tree.DecisionTreeClassifier(criterion = \"entropy\", random_state = 0)\n",
    "x = x_train[[\"Total Population\", \"Percent Less than Bachelor's Degree\"]]\n",
    "y = y_train.iloc[:,2:]\n",
    "model.fit(x,y)"
   ]
  },
  {
   "cell_type": "code",
   "execution_count": null,
   "metadata": {},
   "outputs": [],
   "source": [
    "# TASK 4\n",
    "# Show decision tree\n",
    "model.tree_.__getstate__()['nodes']"
   ]
  },
  {
   "cell_type": "code",
   "execution_count": null,
   "metadata": {},
   "outputs": [],
   "source": [
    "# TASK 4\n",
    "# Predict class labels using decision tree\n",
    "x_test = x_val[[\"Total Population\", \"Percent Less than Bachelor's Degree\"]]\n",
    "y_pred = model.predict(x_test)"
   ]
  },
  {
   "cell_type": "code",
   "execution_count": null,
   "metadata": {},
   "outputs": [],
   "source": [
    "# TASK 4\n",
    "# Compute confusion matrix\n",
    "y_test = y_val.iloc[:, 2:]\n",
    "conf_matrix = metrics.confusion_matrix(y_test, y_pred)\n",
    "print(conf_matrix)"
   ]
  },
  {
   "cell_type": "code",
   "execution_count": null,
   "metadata": {},
   "outputs": [],
   "source": [
    "# TASK 4\n",
    "# Plot confusion matrix\n",
    "sns.heatmap(conf_matrix, annot = True, fmt = \".3f\", square = True, cmap = plt.cm.Blues)\n",
    "plt.ylabel('Actual')\n",
    "plt.xlabel('Predicted')\n",
    "plt.title('Confusion matrix')\n",
    "plt.tight_layout()"
   ]
  },
  {
   "cell_type": "code",
   "execution_count": null,
   "metadata": {},
   "outputs": [],
   "source": [
    "# TASK 4\n",
    "# Compute evaluation metrics\n",
    "print(metrics.accuracy_score(y_test, y_pred)) # accuracy\n",
    "print(1 - metrics.accuracy_score(y_test, y_pred)) # error\n",
    "print(metrics.precision_score(y_test, y_pred, average = None)) # precision\n",
    "print(metrics.recall_score(y_test, y_pred, average = None)) # recall\n",
    "print(metrics.f1_score(y_test, y_pred, average = None)) # F1 score"
   ]
  },
  {
   "cell_type": "code",
   "execution_count": null,
   "metadata": {},
   "outputs": [],
   "source": [
    "# Task 4\n",
    "# Build decision tree with three Parameters\n",
    "model = tree.DecisionTreeClassifier(criterion = \"entropy\", random_state = 0)\n",
    "x = x_train[[\"Total Population\", \"Percent Less than Bachelor's Degree\", \"Percent Black, not Hispanic or Latino\"]]\n",
    "y = y_train.iloc[:,2:]\n",
    "model.fit(x,y)"
   ]
  },
  {
   "cell_type": "code",
   "execution_count": null,
   "metadata": {},
   "outputs": [],
   "source": [
    "# TASK 4\n",
    "# Show decision tree\n",
    "model.tree_.__getstate__()['nodes']"
   ]
  },
  {
   "cell_type": "code",
   "execution_count": null,
   "metadata": {},
   "outputs": [],
   "source": [
    "# TASK 4\n",
    "# Predict class labels using decision tree\n",
    "x_test = x_val[[\"Total Population\", \"Percent Less than Bachelor's Degree\", \"Percent Black, not Hispanic or Latino\"]]\n",
    "y_pred = model.predict(x_test)"
   ]
  },
  {
   "cell_type": "code",
   "execution_count": null,
   "metadata": {},
   "outputs": [],
   "source": [
    "# TASK 4\n",
    "# Compute confusion matrix\n",
    "y_test = y_val.iloc[:, 2:]\n",
    "conf_matrix = metrics.confusion_matrix(y_test, y_pred)\n",
    "print(conf_matrix)"
   ]
  },
  {
   "cell_type": "code",
   "execution_count": null,
   "metadata": {},
   "outputs": [],
   "source": [
    "# TASK 4\n",
    "# Plot confusion matrix\n",
    "sns.heatmap(conf_matrix, annot = True, fmt = \".3f\", square = True, cmap = plt.cm.Blues)\n",
    "plt.ylabel('Actual')\n",
    "plt.xlabel('Predicted')\n",
    "plt.title('Confusion matrix')\n",
    "plt.tight_layout()"
   ]
  },
  {
   "cell_type": "code",
   "execution_count": null,
   "metadata": {},
   "outputs": [],
   "source": [
    "# TASK 4\n",
    "# Compute evaluation metrics\n",
    "print(metrics.accuracy_score(y_test, y_pred)) # accuracy\n",
    "print(1 - metrics.accuracy_score(y_test, y_pred)) # error\n",
    "print(metrics.precision_score(y_test, y_pred, average = None)) # precision\n",
    "print(metrics.recall_score(y_test, y_pred, average = None)) # recall\n",
    "print(metrics.f1_score(y_test, y_pred, average = None)) # F1 score"
   ]
  },
  {
   "cell_type": "code",
   "execution_count": null,
   "metadata": {},
   "outputs": [],
   "source": [
    "# Task 4\n",
    "# Build decision tree with four Parameters\n",
    "model = tree.DecisionTreeClassifier(criterion = \"entropy\", random_state = 0)\n",
    "x = x_train[[\"Total Population\", \"Percent Less than Bachelor's Degree\", \"Percent Black, not Hispanic or Latino\",\n",
    "             \"Percent White, not Hispanic or Latino\"]]\n",
    "y = y_train.iloc[:,2:]\n",
    "model.fit(x,y)"
   ]
  },
  {
   "cell_type": "code",
   "execution_count": null,
   "metadata": {},
   "outputs": [],
   "source": [
    "# TASK 4\n",
    "# Show decision tree\n",
    "model.tree_.__getstate__()['nodes']"
   ]
  },
  {
   "cell_type": "code",
   "execution_count": null,
   "metadata": {},
   "outputs": [],
   "source": [
    "# TASK 4\n",
    "# Predict class labels using decision tree\n",
    "x_test = x_val[[\"Total Population\", \"Percent Less than Bachelor's Degree\", \"Percent Black, not Hispanic or Latino\",\n",
    "                \"Percent White, not Hispanic or Latino\"]]\n",
    "y_pred = model.predict(x_test)"
   ]
  },
  {
   "cell_type": "code",
   "execution_count": null,
   "metadata": {},
   "outputs": [],
   "source": [
    "# TASK 4\n",
    "# Compute confusion matrix\n",
    "y_test = y_val.iloc[:, 2:]\n",
    "conf_matrix = metrics.confusion_matrix(y_test, y_pred)\n",
    "print(conf_matrix)"
   ]
  },
  {
   "cell_type": "code",
   "execution_count": null,
   "metadata": {},
   "outputs": [],
   "source": [
    "# TASK 4\n",
    "# Plot confusion matrix\n",
    "sns.heatmap(conf_matrix, annot = True, fmt = \".3f\", square = True, cmap = plt.cm.Blues)\n",
    "plt.ylabel('Actual')\n",
    "plt.xlabel('Predicted')\n",
    "plt.title('Confusion matrix')\n",
    "plt.tight_layout()"
   ]
  },
  {
   "cell_type": "code",
   "execution_count": null,
   "metadata": {},
   "outputs": [],
   "source": [
    "# TASK 4\n",
    "# Compute evaluation metrics\n",
    "print(metrics.accuracy_score(y_test, y_pred)) # accuracy\n",
    "print(1 - metrics.accuracy_score(y_test, y_pred)) # error\n",
    "print(metrics.precision_score(y_test, y_pred, average = None)) # precision\n",
    "print(metrics.recall_score(y_test, y_pred, average = None)) # recall\n",
    "print(metrics.f1_score(y_test, y_pred, average = None)) # F1 score"
   ]
  },
  {
   "cell_type": "code",
   "execution_count": null,
   "metadata": {},
   "outputs": [],
   "source": [
    "# Task 4\n",
    "# Build decision tree with four Parameters\n",
    "model = tree.DecisionTreeClassifier(criterion = \"entropy\", random_state = 0)\n",
    "x = x_train[[\"Total Population\", \"Percent Less than Bachelor's Degree\", \"Percent Black, not Hispanic or Latino\",\n",
    "             \"Percent Hispanic or Latino\"]]\n",
    "y = y_train.iloc[:,2:]\n",
    "model.fit(x,y)"
   ]
  },
  {
   "cell_type": "code",
   "execution_count": null,
   "metadata": {},
   "outputs": [],
   "source": [
    "# TASK 4\n",
    "# Show decision tree\n",
    "model.tree_.__getstate__()['nodes']"
   ]
  },
  {
   "cell_type": "code",
   "execution_count": null,
   "metadata": {},
   "outputs": [],
   "source": [
    "# TASK 4\n",
    "# Predict class labels using decision tree\n",
    "x_test = x_val[[\"Total Population\", \"Percent Less than Bachelor's Degree\", \"Percent Black, not Hispanic or Latino\",\n",
    "                \"Percent Hispanic or Latino\"]]\n",
    "y_pred = model.predict(x_test)"
   ]
  },
  {
   "cell_type": "code",
   "execution_count": null,
   "metadata": {},
   "outputs": [],
   "source": [
    "# TASK 4\n",
    "# Compute confusion matrix\n",
    "y_test = y_val.iloc[:, 2:]\n",
    "conf_matrix = metrics.confusion_matrix(y_test, y_pred)\n",
    "print(conf_matrix)"
   ]
  },
  {
   "cell_type": "code",
   "execution_count": null,
   "metadata": {},
   "outputs": [],
   "source": [
    "# TASK 4\n",
    "# Plot confusion matrix\n",
    "sns.heatmap(conf_matrix, annot = True, fmt = \".3f\", square = True, cmap = plt.cm.Blues)\n",
    "plt.ylabel('Actual')\n",
    "plt.xlabel('Predicted')\n",
    "plt.title('Confusion matrix')\n",
    "plt.tight_layout()"
   ]
  },
  {
   "cell_type": "code",
   "execution_count": null,
   "metadata": {},
   "outputs": [],
   "source": [
    "# TASK 4\n",
    "# Compute evaluation metrics\n",
    "print(metrics.accuracy_score(y_test, y_pred)) # accuracy\n",
    "print(1 - metrics.accuracy_score(y_test, y_pred)) # error\n",
    "print(metrics.precision_score(y_test, y_pred, average = None)) # precision\n",
    "print(metrics.recall_score(y_test, y_pred, average = None)) # recall\n",
    "print(metrics.f1_score(y_test, y_pred, average = None)) # F1 score"
   ]
  },
  {
   "cell_type": "code",
   "execution_count": null,
   "metadata": {},
   "outputs": [],
   "source": [
    "# Task 4\n",
    "# Build decision tree with four Parameters\n",
    "model = tree.DecisionTreeClassifier(criterion = \"entropy\", random_state = 0)\n",
    "x = x_train[[\"Total Population\", \"Percent Less than Bachelor's Degree\", \"Percent Black, not Hispanic or Latino\",\n",
    "             \"Percent Foreign Born\"]]\n",
    "y = y_train.iloc[:,2:]\n",
    "model.fit(x,y)"
   ]
  },
  {
   "cell_type": "code",
   "execution_count": null,
   "metadata": {},
   "outputs": [],
   "source": [
    "# TASK 4\n",
    "# Show decision tree\n",
    "model.tree_.__getstate__()['nodes']"
   ]
  },
  {
   "cell_type": "code",
   "execution_count": null,
   "metadata": {},
   "outputs": [],
   "source": [
    "# TASK 4\n",
    "# Predict class labels using decision tree\n",
    "x_test = x_val[[\"Total Population\", \"Percent Less than Bachelor's Degree\", \"Percent Black, not Hispanic or Latino\",\n",
    "                \"Percent Foreign Born\"]]\n",
    "y_pred = model.predict(x_test)"
   ]
  },
  {
   "cell_type": "code",
   "execution_count": null,
   "metadata": {},
   "outputs": [],
   "source": [
    "# TASK 4\n",
    "# Compute confusion matrix\n",
    "y_test = y_val.iloc[:, 2:]\n",
    "conf_matrix = metrics.confusion_matrix(y_test, y_pred)\n",
    "print(conf_matrix)"
   ]
  },
  {
   "cell_type": "code",
   "execution_count": null,
   "metadata": {},
   "outputs": [],
   "source": [
    "# TASK 4\n",
    "# Plot confusion matrix\n",
    "sns.heatmap(conf_matrix, annot = True, fmt = \".3f\", square = True, cmap = plt.cm.Blues)\n",
    "plt.ylabel('Actual')\n",
    "plt.xlabel('Predicted')\n",
    "plt.title('Confusion matrix')\n",
    "plt.tight_layout()"
   ]
  },
  {
   "cell_type": "code",
   "execution_count": null,
   "metadata": {},
   "outputs": [],
   "source": [
    "# TASK 4\n",
    "# Compute evaluation metrics\n",
    "print(metrics.accuracy_score(y_test, y_pred)) # accuracy\n",
    "print(1 - metrics.accuracy_score(y_test, y_pred)) # error\n",
    "print(metrics.precision_score(y_test, y_pred, average = None)) # precision\n",
    "print(metrics.recall_score(y_test, y_pred, average = None)) # recall\n",
    "print(metrics.f1_score(y_test, y_pred, average = None)) # F1 score"
   ]
  },
  {
   "cell_type": "code",
   "execution_count": null,
   "metadata": {},
   "outputs": [],
   "source": [
    "# Task 4\n",
    "# Build decision tree with five Parameters\n",
    "model = tree.DecisionTreeClassifier(criterion = \"entropy\", random_state = 0)\n",
    "x = x_train[[\"Total Population\", \"Percent Less than Bachelor's Degree\", \"Percent Black, not Hispanic or Latino\",\n",
    "             \"Percent Foreign Born\",\"Percent Age 29 and Under\"]]\n",
    "y = y_train.iloc[:,2:]\n",
    "model.fit(x,y)"
   ]
  },
  {
   "cell_type": "code",
   "execution_count": null,
   "metadata": {},
   "outputs": [],
   "source": [
    "# TASK 4\n",
    "# Show decision tree\n",
    "model.tree_.__getstate__()['nodes']"
   ]
  },
  {
   "cell_type": "code",
   "execution_count": null,
   "metadata": {},
   "outputs": [],
   "source": [
    "# TASK 4\n",
    "# Predict class labels using decision tree\n",
    "x_test = x_val[[\"Total Population\", \"Percent Less than Bachelor's Degree\", \"Percent Black, not Hispanic or Latino\",\n",
    "               \"Percent Foreign Born\",\"Percent Age 29 and Under\"]]\n",
    "y_pred = model.predict(x_test)"
   ]
  },
  {
   "cell_type": "code",
   "execution_count": null,
   "metadata": {},
   "outputs": [],
   "source": [
    "# TASK 4\n",
    "# Compute confusion matrix\n",
    "y_test = y_val.iloc[:, 2:]\n",
    "conf_matrix = metrics.confusion_matrix(y_test, y_pred)\n",
    "print(conf_matrix)"
   ]
  },
  {
   "cell_type": "code",
   "execution_count": null,
   "metadata": {},
   "outputs": [],
   "source": [
    "# TASK 4\n",
    "# Plot confusion matrix\n",
    "sns.heatmap(conf_matrix, annot = True, fmt = \".3f\", square = True, cmap = plt.cm.Blues)\n",
    "plt.ylabel('Actual')\n",
    "plt.xlabel('Predicted')\n",
    "plt.title('Confusion matrix')\n",
    "plt.tight_layout()"
   ]
  },
  {
   "cell_type": "code",
   "execution_count": null,
   "metadata": {},
   "outputs": [],
   "source": [
    "# TASK 4\n",
    "# Compute evaluation metrics\n",
    "print(metrics.accuracy_score(y_test, y_pred)) # accuracy\n",
    "print(1 - metrics.accuracy_score(y_test, y_pred)) # error\n",
    "print(metrics.precision_score(y_test, y_pred, average = None)) # precision\n",
    "print(metrics.recall_score(y_test, y_pred, average = None)) # recall\n",
    "print(metrics.f1_score(y_test, y_pred, average = None)) # F1 score"
   ]
  },
  {
   "cell_type": "code",
   "execution_count": null,
   "metadata": {},
   "outputs": [],
   "source": [
    "# Task 4\n",
    "# Build decision tree with five Parameters\n",
    "model = tree.DecisionTreeClassifier(criterion = \"entropy\", random_state = 0)\n",
    "x = x_train[[\"Total Population\", \"Percent Less than Bachelor's Degree\", \"Percent Black, not Hispanic or Latino\",\n",
    "             \"Percent Foreign Born\",\"Percent Age 65 and Older\"]]\n",
    "y = y_train.iloc[:,2:]\n",
    "model.fit(x,y)"
   ]
  },
  {
   "cell_type": "code",
   "execution_count": null,
   "metadata": {},
   "outputs": [],
   "source": [
    "# TASK 4\n",
    "# Show decision tree\n",
    "model.tree_.__getstate__()['nodes']"
   ]
  },
  {
   "cell_type": "code",
   "execution_count": null,
   "metadata": {},
   "outputs": [],
   "source": [
    "# TASK 4\n",
    "# Predict class labels using decision tree\n",
    "x_test = x_val[[\"Total Population\", \"Percent Less than Bachelor's Degree\", \"Percent Black, not Hispanic or Latino\",\n",
    "               \"Percent Foreign Born\",\"Percent Age 65 and Older\"]]\n",
    "y_pred = model.predict(x_test)"
   ]
  },
  {
   "cell_type": "code",
   "execution_count": null,
   "metadata": {},
   "outputs": [],
   "source": [
    "# TASK 4\n",
    "# Compute confusion matrix\n",
    "y_test = y_val.iloc[:, 2:]\n",
    "conf_matrix = metrics.confusion_matrix(y_test, y_pred)\n",
    "print(conf_matrix)"
   ]
  },
  {
   "cell_type": "code",
   "execution_count": null,
   "metadata": {},
   "outputs": [],
   "source": [
    "# TASK 4\n",
    "# Plot confusion matrix\n",
    "sns.heatmap(conf_matrix, annot = True, fmt = \".3f\", square = True, cmap = plt.cm.Blues)\n",
    "plt.ylabel('Actual')\n",
    "plt.xlabel('Predicted')\n",
    "plt.title('Confusion matrix')\n",
    "plt.tight_layout()"
   ]
  },
  {
   "cell_type": "code",
   "execution_count": null,
   "metadata": {},
   "outputs": [],
   "source": [
    "# TASK 4\n",
    "# Compute evaluation metrics\n",
    "print(metrics.accuracy_score(y_test, y_pred)) # accuracy\n",
    "print(1 - metrics.accuracy_score(y_test, y_pred)) # error\n",
    "print(metrics.precision_score(y_test, y_pred, average = None)) # precision\n",
    "print(metrics.recall_score(y_test, y_pred, average = None)) # recall\n",
    "print(metrics.f1_score(y_test, y_pred, average = None)) # F1 score"
   ]
  },
  {
   "cell_type": "code",
   "execution_count": null,
   "metadata": {},
   "outputs": [],
   "source": [
    "# Task 4\n",
    "# Build decision tree with five Parameters\n",
    "model = tree.DecisionTreeClassifier(criterion = \"entropy\", random_state = 0)\n",
    "x = x_train[[\"Total Population\", \"Percent Less than Bachelor's Degree\", \"Percent Black, not Hispanic or Latino\",\n",
    "             \"Percent Foreign Born\",\"Percent Female\"]]\n",
    "y = y_train.iloc[:,2:]\n",
    "model.fit(x,y)"
   ]
  },
  {
   "cell_type": "code",
   "execution_count": null,
   "metadata": {},
   "outputs": [],
   "source": [
    "# TASK 4\n",
    "# Show decision tree\n",
    "model.tree_.__getstate__()['nodes']"
   ]
  },
  {
   "cell_type": "code",
   "execution_count": null,
   "metadata": {},
   "outputs": [],
   "source": [
    "# TASK 4\n",
    "# Predict class labels using decision tree\n",
    "x_test = x_val[[\"Total Population\", \"Percent Less than Bachelor's Degree\", \"Percent Black, not Hispanic or Latino\",\n",
    "               \"Percent Foreign Born\",\"Percent Female\"]]\n",
    "y_pred = model.predict(x_test)"
   ]
  },
  {
   "cell_type": "code",
   "execution_count": null,
   "metadata": {},
   "outputs": [],
   "source": [
    "# TASK 4\n",
    "# Compute confusion matrix\n",
    "y_test = y_val.iloc[:, 2:]\n",
    "conf_matrix = metrics.confusion_matrix(y_test, y_pred)\n",
    "print(conf_matrix)"
   ]
  },
  {
   "cell_type": "code",
   "execution_count": null,
   "metadata": {},
   "outputs": [],
   "source": [
    "# TASK 4\n",
    "# Plot confusion matrix\n",
    "sns.heatmap(conf_matrix, annot = True, fmt = \".3f\", square = True, cmap = plt.cm.Blues)\n",
    "plt.ylabel('Actual')\n",
    "plt.xlabel('Predicted')\n",
    "plt.title('Confusion matrix')\n",
    "plt.tight_layout()"
   ]
  },
  {
   "cell_type": "code",
   "execution_count": null,
   "metadata": {},
   "outputs": [],
   "source": [
    "# TASK 4\n",
    "# Compute evaluation metrics\n",
    "print(metrics.accuracy_score(y_test, y_pred)) # accuracy\n",
    "print(1 - metrics.accuracy_score(y_test, y_pred)) # error\n",
    "print(metrics.precision_score(y_test, y_pred, average = None)) # precision\n",
    "print(metrics.recall_score(y_test, y_pred, average = None)) # recall\n",
    "print(metrics.f1_score(y_test, y_pred, average = None)) # F1 score"
   ]
  },
  {
   "cell_type": "code",
   "execution_count": null,
   "metadata": {},
   "outputs": [],
   "source": [
    "# Task 4\n",
    "# Build decision tree with five Parameters\n",
    "model = tree.DecisionTreeClassifier(criterion = \"entropy\", random_state = 0)\n",
    "x = x_train[[\"Total Population\", \"Percent Less than Bachelor's Degree\", \"Percent Black, not Hispanic or Latino\",\n",
    "             \"Percent Foreign Born\",\"Median Household Income\"]]\n",
    "y = y_train.iloc[:,2:]\n",
    "model.fit(x,y)"
   ]
  },
  {
   "cell_type": "code",
   "execution_count": null,
   "metadata": {},
   "outputs": [],
   "source": [
    "# TASK 4\n",
    "# Show decision tree\n",
    "model.tree_.__getstate__()['nodes']"
   ]
  },
  {
   "cell_type": "code",
   "execution_count": null,
   "metadata": {},
   "outputs": [],
   "source": [
    "# TASK 4\n",
    "# Predict class labels using decision tree\n",
    "x_test = x_val[[\"Total Population\", \"Percent Less than Bachelor's Degree\", \"Percent Black, not Hispanic or Latino\",\n",
    "               \"Percent Foreign Born\",\"Median Household Income\"]]\n",
    "y_pred = model.predict(x_test)"
   ]
  },
  {
   "cell_type": "code",
   "execution_count": null,
   "metadata": {},
   "outputs": [],
   "source": [
    "# TASK 4\n",
    "# Compute confusion matrix\n",
    "y_test = y_val.iloc[:, 2:]\n",
    "conf_matrix = metrics.confusion_matrix(y_test, y_pred)\n",
    "print(conf_matrix)"
   ]
  },
  {
   "cell_type": "code",
   "execution_count": null,
   "metadata": {},
   "outputs": [],
   "source": [
    "# TASK 4\n",
    "# Plot confusion matrix\n",
    "sns.heatmap(conf_matrix, annot = True, fmt = \".3f\", square = True, cmap = plt.cm.Blues)\n",
    "plt.ylabel('Actual')\n",
    "plt.xlabel('Predicted')\n",
    "plt.title('Confusion matrix')\n",
    "plt.tight_layout()"
   ]
  },
  {
   "cell_type": "code",
   "execution_count": null,
   "metadata": {},
   "outputs": [],
   "source": [
    "# TASK 4\n",
    "# Compute evaluation metrics\n",
    "print(metrics.accuracy_score(y_test, y_pred)) # accuracy\n",
    "print(1 - metrics.accuracy_score(y_test, y_pred)) # error\n",
    "print(metrics.precision_score(y_test, y_pred, average = None)) # precision\n",
    "print(metrics.recall_score(y_test, y_pred, average = None)) # recall\n",
    "print(metrics.f1_score(y_test, y_pred, average = None)) # F1 score"
   ]
  },
  {
   "cell_type": "code",
   "execution_count": null,
   "metadata": {},
   "outputs": [],
   "source": [
    "# Task 4\n",
    "# Build decision tree with five Parameters\n",
    "model = tree.DecisionTreeClassifier(criterion = \"entropy\", random_state = 0)\n",
    "x = x_train[[\"Total Population\", \"Percent Less than Bachelor's Degree\", \"Percent Black, not Hispanic or Latino\",\n",
    "             \"Percent Foreign Born\",\"Percent Unemployed\"]]\n",
    "y = y_train.iloc[:,2:]\n",
    "model.fit(x,y)"
   ]
  },
  {
   "cell_type": "code",
   "execution_count": null,
   "metadata": {},
   "outputs": [],
   "source": [
    "# TASK 4\n",
    "# Show decision tree\n",
    "model.tree_.__getstate__()['nodes']"
   ]
  },
  {
   "cell_type": "code",
   "execution_count": null,
   "metadata": {},
   "outputs": [],
   "source": [
    "# TASK 4\n",
    "# Predict class labels using decision tree\n",
    "x_test = x_val[[\"Total Population\", \"Percent Less than Bachelor's Degree\", \"Percent Black, not Hispanic or Latino\",\n",
    "               \"Percent Foreign Born\",\"Percent Unemployed\"]]\n",
    "y_pred = model.predict(x_test)"
   ]
  },
  {
   "cell_type": "code",
   "execution_count": null,
   "metadata": {},
   "outputs": [],
   "source": [
    "# TASK 4\n",
    "# Compute confusion matrix\n",
    "y_test = y_val.iloc[:, 2:]\n",
    "conf_matrix = metrics.confusion_matrix(y_test, y_pred)\n",
    "print(conf_matrix)"
   ]
  },
  {
   "cell_type": "code",
   "execution_count": null,
   "metadata": {},
   "outputs": [],
   "source": [
    "# TASK 4\n",
    "# Plot confusion matrix\n",
    "sns.heatmap(conf_matrix, annot = True, fmt = \".3f\", square = True, cmap = plt.cm.Blues)\n",
    "plt.ylabel('Actual')\n",
    "plt.xlabel('Predicted')\n",
    "plt.title('Confusion matrix')\n",
    "plt.tight_layout()"
   ]
  },
  {
   "cell_type": "code",
   "execution_count": null,
   "metadata": {},
   "outputs": [],
   "source": [
    "# TASK 4\n",
    "# Compute evaluation metrics\n",
    "print(metrics.accuracy_score(y_test, y_pred)) # accuracy\n",
    "print(1 - metrics.accuracy_score(y_test, y_pred)) # error\n",
    "print(metrics.precision_score(y_test, y_pred, average = None)) # precision\n",
    "print(metrics.recall_score(y_test, y_pred, average = None)) # recall\n",
    "print(metrics.f1_score(y_test, y_pred, average = None)) # F1 score"
   ]
  },
  {
   "cell_type": "code",
   "execution_count": null,
   "metadata": {},
   "outputs": [],
   "source": [
    "# Task 4\n",
    "# Build decision tree with five Parameters\n",
    "model = tree.DecisionTreeClassifier(criterion = \"entropy\", random_state = 0)\n",
    "x = x_train[[\"Total Population\", \"Percent Less than Bachelor's Degree\", \"Percent Black, not Hispanic or Latino\",\n",
    "             \"Percent Foreign Born\",\"Percent Less than High School Degree\"]]\n",
    "y = y_train.iloc[:,2:]\n",
    "model.fit(x,y)"
   ]
  },
  {
   "cell_type": "code",
   "execution_count": null,
   "metadata": {},
   "outputs": [],
   "source": [
    "# TASK 4\n",
    "# Show decision tree\n",
    "model.tree_.__getstate__()['nodes']"
   ]
  },
  {
   "cell_type": "code",
   "execution_count": null,
   "metadata": {},
   "outputs": [],
   "source": [
    "# TASK 4\n",
    "# Predict class labels using decision tree\n",
    "x_test = x_val[[\"Total Population\", \"Percent Less than Bachelor's Degree\", \"Percent Black, not Hispanic or Latino\",\n",
    "               \"Percent Foreign Born\",\"Percent Less than High School Degree\"]]\n",
    "y_pred = model.predict(x_test)"
   ]
  },
  {
   "cell_type": "code",
   "execution_count": null,
   "metadata": {},
   "outputs": [],
   "source": [
    "# TASK 4\n",
    "# Compute confusion matrix\n",
    "y_test = y_val.iloc[:, 2:]\n",
    "conf_matrix = metrics.confusion_matrix(y_test, y_pred)\n",
    "print(conf_matrix)"
   ]
  },
  {
   "cell_type": "code",
   "execution_count": null,
   "metadata": {},
   "outputs": [],
   "source": [
    "# TASK 4\n",
    "# Plot confusion matrix\n",
    "sns.heatmap(conf_matrix, annot = True, fmt = \".3f\", square = True, cmap = plt.cm.Blues)\n",
    "plt.ylabel('Actual')\n",
    "plt.xlabel('Predicted')\n",
    "plt.title('Confusion matrix')\n",
    "plt.tight_layout()"
   ]
  },
  {
   "cell_type": "code",
   "execution_count": null,
   "metadata": {},
   "outputs": [],
   "source": [
    "# TASK 4\n",
    "# Compute evaluation metrics\n",
    "print(metrics.accuracy_score(y_test, y_pred)) # accuracy\n",
    "print(1 - metrics.accuracy_score(y_test, y_pred)) # error\n",
    "print(metrics.precision_score(y_test, y_pred, average = None)) # precision\n",
    "print(metrics.recall_score(y_test, y_pred, average = None)) # recall\n",
    "print(metrics.f1_score(y_test, y_pred, average = None)) # F1 score"
   ]
  },
  {
   "cell_type": "code",
   "execution_count": null,
   "metadata": {},
   "outputs": [],
   "source": [
    "# Task 4\n",
    "# Build decision tree with five Parameters\n",
    "model = tree.DecisionTreeClassifier(criterion = \"entropy\", random_state = 0)\n",
    "x = x_train[[\"Total Population\", \"Percent Less than Bachelor's Degree\", \"Percent Black, not Hispanic or Latino\",\n",
    "             \"Percent Foreign Born\",\"Percent Rural\"]]\n",
    "y = y_train.iloc[:,2:]\n",
    "model.fit(x,y)"
   ]
  },
  {
   "cell_type": "code",
   "execution_count": null,
   "metadata": {},
   "outputs": [],
   "source": [
    "# TASK 4\n",
    "# Show decision tree\n",
    "model.tree_.__getstate__()['nodes']"
   ]
  },
  {
   "cell_type": "code",
   "execution_count": null,
   "metadata": {},
   "outputs": [],
   "source": [
    "# TASK 4\n",
    "# Plot decision tree\n",
    "dot_data = StringIO() \n",
    "tree.export_graphviz(model, out_file = dot_data, feature_names = x.columns) \n",
    "figure = pydot.graph_from_dot_data(dot_data.getvalue()) \n",
    "figure[0].write_pdf(\"Project2tree.pdf\")"
   ]
  },
  {
   "cell_type": "code",
   "execution_count": null,
   "metadata": {},
   "outputs": [],
   "source": [
    "# TASK 4\n",
    "# Predict class labels using decision tree\n",
    "x_test = x_val[[\"Total Population\", \"Percent Less than Bachelor's Degree\", \"Percent Black, not Hispanic or Latino\",\n",
    "               \"Percent Foreign Born\",\"Percent Rural\"]]\n",
    "y_pred = model.predict(x_test)"
   ]
  },
  {
   "cell_type": "code",
   "execution_count": null,
   "metadata": {},
   "outputs": [],
   "source": [
    "# TASK 4\n",
    "# Compute confusion matrix\n",
    "y_test = y_val.iloc[:, 2:]\n",
    "conf_matrix = metrics.confusion_matrix(y_test, y_pred)\n",
    "print(conf_matrix)"
   ]
  },
  {
   "cell_type": "code",
   "execution_count": null,
   "metadata": {},
   "outputs": [],
   "source": [
    "# TASK 4\n",
    "# Plot confusion matrix\n",
    "sns.heatmap(conf_matrix, annot = True, fmt = \".3f\", square = True, cmap = plt.cm.Blues)\n",
    "plt.ylabel('Actual')\n",
    "plt.xlabel('Predicted')\n",
    "plt.title('Confusion matrix')\n",
    "plt.tight_layout()"
   ]
  },
  {
   "cell_type": "code",
   "execution_count": null,
   "metadata": {},
   "outputs": [],
   "source": [
    "# TASK 4\n",
    "# Compute evaluation metrics\n",
    "print(metrics.accuracy_score(y_test, y_pred)) # accuracy\n",
    "print(1 - metrics.accuracy_score(y_test, y_pred)) # error\n",
    "print(metrics.precision_score(y_test, y_pred, average = None)) # precision\n",
    "print(metrics.recall_score(y_test, y_pred, average = None)) # recall\n",
    "print(metrics.f1_score(y_test, y_pred, average = None)) # F1 score"
   ]
  },
  {
   "cell_type": "code",
   "execution_count": null,
   "metadata": {},
   "outputs": [],
   "source": [
    "# Task 4\n",
    "# Build decision tree with four Parameters\n",
    "model = tree.DecisionTreeClassifier(criterion = \"entropy\", random_state = 0)\n",
    "x = x_train[[\"Percent Less than Bachelor's Degree\", \"Percent Black, not Hispanic or Latino\",\n",
    "             \"Percent Foreign Born\",\"Percent Rural\"]]\n",
    "y = y_train.iloc[:,2:]\n",
    "model.fit(x,y)"
   ]
  },
  {
   "cell_type": "code",
   "execution_count": null,
   "metadata": {},
   "outputs": [],
   "source": [
    "# TASK 4\n",
    "# Show decision tree\n",
    "model.tree_.__getstate__()['nodes']"
   ]
  },
  {
   "cell_type": "code",
   "execution_count": null,
   "metadata": {},
   "outputs": [],
   "source": [
    "# TASK 4\n",
    "# Predict class labels using decision tree\n",
    "x_test = x_val[[\"Percent Less than Bachelor's Degree\", \"Percent Black, not Hispanic or Latino\",\n",
    "               \"Percent Foreign Born\",\"Percent Rural\"]]\n",
    "y_pred = model.predict(x_test)"
   ]
  },
  {
   "cell_type": "code",
   "execution_count": null,
   "metadata": {},
   "outputs": [],
   "source": [
    "# TASK 4\n",
    "# Compute confusion matrix\n",
    "y_test = y_val.iloc[:, 2:]\n",
    "conf_matrix = metrics.confusion_matrix(y_test, y_pred)\n",
    "print(conf_matrix)"
   ]
  },
  {
   "cell_type": "code",
   "execution_count": null,
   "metadata": {},
   "outputs": [],
   "source": [
    "# TASK 4\n",
    "# Plot confusion matrix\n",
    "sns.heatmap(conf_matrix, annot = True, fmt = \".3f\", square = True, cmap = plt.cm.Blues)\n",
    "plt.ylabel('Actual')\n",
    "plt.xlabel('Predicted')\n",
    "plt.title('Confusion matrix')\n",
    "plt.tight_layout()"
   ]
  },
  {
   "cell_type": "code",
   "execution_count": null,
   "metadata": {},
   "outputs": [],
   "source": [
    "# TASK 4\n",
    "# Compute evaluation metrics\n",
    "print(metrics.accuracy_score(y_test, y_pred)) # accuracy\n",
    "print(1 - metrics.accuracy_score(y_test, y_pred)) # error\n",
    "print(metrics.precision_score(y_test, y_pred, average = None)) # precision\n",
    "print(metrics.recall_score(y_test, y_pred, average = None)) # recall\n",
    "print(metrics.f1_score(y_test, y_pred, average = None)) # F1 score"
   ]
  },
  {
   "cell_type": "code",
   "execution_count": null,
   "metadata": {},
   "outputs": [],
   "source": [
    "# Task 4\n",
    "# Build decision tree with all Parameters\n",
    "model = tree.DecisionTreeClassifier(criterion = \"entropy\", random_state = 0)\n",
    "x = x_train\n",
    "y = y_train.iloc[:,2:]\n",
    "model.fit(x,y)"
   ]
  },
  {
   "cell_type": "code",
   "execution_count": null,
   "metadata": {},
   "outputs": [],
   "source": [
    "# TASK 4\n",
    "# Show decision tree\n",
    "model.tree_.__getstate__()['nodes']"
   ]
  },
  {
   "cell_type": "code",
   "execution_count": null,
   "metadata": {},
   "outputs": [],
   "source": [
    "# TASK 4\n",
    "# Predict class labels using decision tree\n",
    "x_test = x_val\n",
    "y_pred = model.predict(x_test)"
   ]
  },
  {
   "cell_type": "code",
   "execution_count": null,
   "metadata": {},
   "outputs": [],
   "source": [
    "# TASK 4\n",
    "# Compute confusion matrix\n",
    "y_test = y_val.iloc[:, 2:]\n",
    "conf_matrix = metrics.confusion_matrix(y_test, y_pred)\n",
    "print(conf_matrix)"
   ]
  },
  {
   "cell_type": "code",
   "execution_count": null,
   "metadata": {},
   "outputs": [],
   "source": [
    "# TASK 4\n",
    "# Plot confusion matrix\n",
    "sns.heatmap(conf_matrix, annot = True, fmt = \".3f\", square = True, cmap = plt.cm.Blues)\n",
    "plt.ylabel('Actual')\n",
    "plt.xlabel('Predicted')\n",
    "plt.title('Confusion matrix')\n",
    "plt.tight_layout()"
   ]
  },
  {
   "cell_type": "code",
   "execution_count": null,
   "metadata": {},
   "outputs": [],
   "source": [
    "# TASK 4\n",
    "# Compute evaluation metrics\n",
    "print(metrics.accuracy_score(y_test, y_pred)) # accuracy\n",
    "print(1 - metrics.accuracy_score(y_test, y_pred)) # error\n",
    "print(metrics.precision_score(y_test, y_pred, average = None)) # precision\n",
    "print(metrics.recall_score(y_test, y_pred, average = None)) # recall\n",
    "print(metrics.f1_score(y_test, y_pred, average = None)) # F1 score"
   ]
  },
  {
   "cell_type": "code",
   "execution_count": null,
   "metadata": {},
   "outputs": [],
   "source": [
    "# TASK 4\n",
    "# The Decision tree with paramaters:\n",
    "# \"Total Population\", \"Percent Less than Bachelor's Degree\", \"Percent Black, not Hispanic or Latino\", and\n",
    "# \"Percent Foreign Born\",\"Percent Rural\"\n",
    "# is the best classifer in case of decision tree classifiers"
   ]
  },
  {
   "cell_type": "code",
   "execution_count": null,
   "metadata": {},
   "outputs": [],
   "source": []
  },
  {
   "cell_type": "code",
   "execution_count": 23,
   "metadata": {},
   "outputs": [
    {
     "name": "stderr",
     "output_type": "stream",
     "text": [
      "C:\\Users\\kalya\\Anaconda3\\lib\\site-packages\\ipykernel_launcher.py:6: DataConversionWarning: A column-vector y was passed when a 1d array was expected. Please change the shape of y to (n_samples, ), for example using ravel().\n",
      "  \n"
     ]
    },
    {
     "data": {
      "text/plain": [
       "KNeighborsClassifier(algorithm='auto', leaf_size=30, metric='minkowski',\n",
       "                     metric_params=None, n_jobs=None, n_neighbors=3, p=2,\n",
       "                     weights='uniform')"
      ]
     },
     "execution_count": 23,
     "metadata": {},
     "output_type": "execute_result"
    }
   ],
   "source": [
    "# TASK 4\n",
    "# K nearest neighbour\n",
    "classifier = KNeighborsClassifier(n_neighbors = 3) \n",
    "x = x_train[[\"Total Population\"]]\n",
    "y = y_train.iloc[:,2:]\n",
    "classifier.fit(x, y)"
   ]
  },
  {
   "cell_type": "code",
   "execution_count": null,
   "metadata": {},
   "outputs": [],
   "source": [
    "#"
   ]
  },
  {
   "cell_type": "code",
   "execution_count": null,
   "metadata": {},
   "outputs": [],
   "source": []
  },
  {
   "cell_type": "code",
   "execution_count": null,
   "metadata": {},
   "outputs": [],
   "source": [
    "# TASK 4\n",
    "# Naive bayes\n",
    "from sklearn.naive_bayes import GaussianNB"
   ]
  },
  {
   "cell_type": "code",
   "execution_count": null,
   "metadata": {},
   "outputs": [],
   "source": [
    "# CLASSIFIER: Naive Bayes\n",
    "# Initialize Naive Bayes classifier with all parameters\n",
    "classifier = GaussianNB()\n",
    "x = x_train\n",
    "y = y_train.iloc[:,2:]\n",
    "classifier.fit(x, y)"
   ]
  },
  {
   "cell_type": "code",
   "execution_count": null,
   "metadata": {},
   "outputs": [],
   "source": [
    "# Predict class labels using Naive Bayes classifier\n",
    "y_pred = classifier.predict(x_test)"
   ]
  },
  {
   "cell_type": "code",
   "execution_count": null,
   "metadata": {},
   "outputs": [],
   "source": [
    "# Compute confusion matrix\n",
    "conf_matrix = metrics.confusion_matrix(y_test, y_pred)\n",
    "print(conf_matrix)"
   ]
  },
  {
   "cell_type": "code",
   "execution_count": null,
   "metadata": {},
   "outputs": [],
   "source": [
    "# Plot confusion matrix\n",
    "sns.heatmap(conf_matrix, annot = True, fmt = \".3f\", square = True, cmap = plt.cm.Blues)\n",
    "plt.ylabel('Actual')\n",
    "plt.xlabel('Predicted')\n",
    "plt.title('Confusion matrix')\n",
    "plt.tight_layout()"
   ]
  },
  {
   "cell_type": "code",
   "execution_count": null,
   "metadata": {},
   "outputs": [],
   "source": [
    "# TASK 4\n",
    "# Compute evaluation metrics\n",
    "print(metrics.accuracy_score(y_test, y_pred)) # accuracy\n",
    "print(1 - metrics.accuracy_score(y_test, y_pred)) # error\n",
    "print(metrics.precision_score(y_test, y_pred, average = None)) # precision\n",
    "print(metrics.recall_score(y_test, y_pred, average = None)) # recall\n",
    "print(metrics.f1_score(y_test, y_pred, average = None)) # F1 score"
   ]
  },
  {
   "cell_type": "code",
   "execution_count": null,
   "metadata": {},
   "outputs": [],
   "source": []
  }
 ],
 "metadata": {
  "kernelspec": {
   "display_name": "Python 3",
   "language": "python",
   "name": "python3"
  },
  "language_info": {
   "codemirror_mode": {
    "name": "ipython",
    "version": 3
   },
   "file_extension": ".py",
   "mimetype": "text/x-python",
   "name": "python",
   "nbconvert_exporter": "python",
   "pygments_lexer": "ipython3",
   "version": "3.7.3"
  }
 },
 "nbformat": 4,
 "nbformat_minor": 4
}
